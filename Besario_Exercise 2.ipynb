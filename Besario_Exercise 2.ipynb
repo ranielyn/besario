{
 "cells": [
  {
   "cell_type": "markdown",
   "id": "97b6ee2a",
   "metadata": {},
   "source": [
    "Load the Browns corpus from NLTK (nltk.corpus.brown) with fiction category (pass the category to the loader functions). \n",
    "From the corpus, load the tagged and untagged sentences. \n",
    "Make sure that the tags are using the universal tag set. "
   ]
  },
  {
   "cell_type": "code",
   "execution_count": 1,
   "id": "e0e511c1",
   "metadata": {},
   "outputs": [
    {
     "data": {
      "text/plain": [
       "<CategorizedTaggedCorpusReader in 'C:\\\\Users\\\\USER\\\\AppData\\\\Roaming\\\\nltk_data\\\\corpora\\\\brown'>"
      ]
     },
     "execution_count": 1,
     "metadata": {},
     "output_type": "execute_result"
    }
   ],
   "source": [
    "import nltk\n",
    "nltk.download('book', quiet=True)\n",
    "nltk.corpus.brown"
   ]
  },
  {
   "cell_type": "code",
   "execution_count": 2,
   "id": "af1fd7fd",
   "metadata": {},
   "outputs": [],
   "source": [
    "DATA = nltk.corpus.brown.sents()\n",
    "DATA_TAGGED = nltk.corpus.brown.tagged_sents(tagset='universal')"
   ]
  },
  {
   "cell_type": "code",
   "execution_count": 3,
   "id": "160c6380",
   "metadata": {},
   "outputs": [],
   "source": [
    "train_split = int(len(DATA_TAGGED) * 0.75)\n",
    "DATA_TRAIN = DATA_TAGGED[:train_split]\n",
    "DATA_TEST = DATA_TAGGED[train_split:]"
   ]
  },
  {
   "cell_type": "code",
   "execution_count": 4,
   "id": "621e85d5",
   "metadata": {},
   "outputs": [
    {
     "data": {
      "text/plain": [
       "(57340, 57340, 43005, 14335)"
      ]
     },
     "execution_count": 4,
     "metadata": {},
     "output_type": "execute_result"
    }
   ],
   "source": [
    "len(DATA), len(DATA_TAGGED), len(DATA_TRAIN), len(DATA_TEST)"
   ]
  },
  {
   "cell_type": "markdown",
   "id": "e85a9659",
   "metadata": {},
   "source": [
    "Uni-gram Tagger (1-a)"
   ]
  },
  {
   "cell_type": "code",
   "execution_count": 5,
   "id": "907b1e95",
   "metadata": {},
   "outputs": [
    {
     "data": {
      "text/plain": [
       "0.9090116513014942"
      ]
     },
     "execution_count": 5,
     "metadata": {},
     "output_type": "execute_result"
    }
   ],
   "source": [
    "unigram_tagger = nltk.tag.UnigramTagger(DATA_TRAIN)\n",
    "unigram_tagger.evaluate(DATA_TEST)"
   ]
  },
  {
   "cell_type": "code",
   "execution_count": 6,
   "id": "5760d121",
   "metadata": {
    "scrolled": false
   },
   "outputs": [
    {
     "data": {
      "text/plain": [
       "[[('The', 'DET'),\n",
       "  ('Fulton', 'NOUN'),\n",
       "  ('County', 'NOUN'),\n",
       "  ('Grand', 'ADJ'),\n",
       "  ('Jury', 'NOUN'),\n",
       "  ('said', 'VERB'),\n",
       "  ('Friday', 'NOUN'),\n",
       "  ('an', 'DET'),\n",
       "  ('investigation', 'NOUN'),\n",
       "  ('of', 'ADP'),\n",
       "  (\"Atlanta's\", 'NOUN'),\n",
       "  ('recent', 'ADJ'),\n",
       "  ('primary', 'ADJ'),\n",
       "  ('election', 'NOUN'),\n",
       "  ('produced', 'VERB'),\n",
       "  ('``', '.'),\n",
       "  ('no', 'DET'),\n",
       "  ('evidence', 'NOUN'),\n",
       "  (\"''\", '.'),\n",
       "  ('that', 'ADP'),\n",
       "  ('any', 'DET'),\n",
       "  ('irregularities', 'NOUN'),\n",
       "  ('took', 'VERB'),\n",
       "  ('place', 'NOUN'),\n",
       "  ('.', '.')],\n",
       " [('The', 'DET'),\n",
       "  ('jury', 'NOUN'),\n",
       "  ('further', 'ADJ'),\n",
       "  ('said', 'VERB'),\n",
       "  ('in', 'ADP'),\n",
       "  ('term-end', 'NOUN'),\n",
       "  ('presentments', 'NOUN'),\n",
       "  ('that', 'ADP'),\n",
       "  ('the', 'DET'),\n",
       "  ('City', 'NOUN'),\n",
       "  ('Executive', 'ADJ'),\n",
       "  ('Committee', 'NOUN'),\n",
       "  (',', '.'),\n",
       "  ('which', 'DET'),\n",
       "  ('had', 'VERB'),\n",
       "  ('over-all', 'ADJ'),\n",
       "  ('charge', 'NOUN'),\n",
       "  ('of', 'ADP'),\n",
       "  ('the', 'DET'),\n",
       "  ('election', 'NOUN'),\n",
       "  (',', '.'),\n",
       "  ('``', '.'),\n",
       "  ('deserves', 'VERB'),\n",
       "  ('the', 'DET'),\n",
       "  ('praise', 'NOUN'),\n",
       "  ('and', 'CONJ'),\n",
       "  ('thanks', 'NOUN'),\n",
       "  ('of', 'ADP'),\n",
       "  ('the', 'DET'),\n",
       "  ('City', 'NOUN'),\n",
       "  ('of', 'ADP'),\n",
       "  ('Atlanta', 'NOUN'),\n",
       "  (\"''\", '.'),\n",
       "  ('for', 'ADP'),\n",
       "  ('the', 'DET'),\n",
       "  ('manner', 'NOUN'),\n",
       "  ('in', 'ADP'),\n",
       "  ('which', 'DET'),\n",
       "  ('the', 'DET'),\n",
       "  ('election', 'NOUN'),\n",
       "  ('was', 'VERB'),\n",
       "  ('conducted', 'VERB'),\n",
       "  ('.', '.')],\n",
       " [('The', 'DET'),\n",
       "  ('September-October', 'NOUN'),\n",
       "  ('term', 'NOUN'),\n",
       "  ('jury', 'NOUN'),\n",
       "  ('had', 'VERB'),\n",
       "  ('been', 'VERB'),\n",
       "  ('charged', 'VERB'),\n",
       "  ('by', 'ADP'),\n",
       "  ('Fulton', 'NOUN'),\n",
       "  ('Superior', 'ADJ'),\n",
       "  ('Court', 'NOUN'),\n",
       "  ('Judge', 'NOUN'),\n",
       "  ('Durwood', 'NOUN'),\n",
       "  ('Pye', 'NOUN'),\n",
       "  ('to', 'PRT'),\n",
       "  ('investigate', 'VERB'),\n",
       "  ('reports', 'NOUN'),\n",
       "  ('of', 'ADP'),\n",
       "  ('possible', 'ADJ'),\n",
       "  ('``', '.'),\n",
       "  ('irregularities', 'NOUN'),\n",
       "  (\"''\", '.'),\n",
       "  ('in', 'ADP'),\n",
       "  ('the', 'DET'),\n",
       "  ('hard-fought', 'ADJ'),\n",
       "  ('primary', 'ADJ'),\n",
       "  ('which', 'DET'),\n",
       "  ('was', 'VERB'),\n",
       "  ('won', 'VERB'),\n",
       "  ('by', 'ADP'),\n",
       "  ('Mayor-nominate', 'NOUN'),\n",
       "  ('Ivan', 'NOUN'),\n",
       "  ('Allen', 'NOUN'),\n",
       "  ('Jr.', 'NOUN'),\n",
       "  ('.', '.')],\n",
       " [('``', '.'),\n",
       "  ('Only', 'ADV'),\n",
       "  ('a', 'DET'),\n",
       "  ('relative', 'ADJ'),\n",
       "  ('handful', 'NOUN'),\n",
       "  ('of', 'ADP'),\n",
       "  ('such', 'ADJ'),\n",
       "  ('reports', 'NOUN'),\n",
       "  ('was', 'VERB'),\n",
       "  ('received', 'VERB'),\n",
       "  (\"''\", '.'),\n",
       "  (',', '.'),\n",
       "  ('the', 'DET'),\n",
       "  ('jury', 'NOUN'),\n",
       "  ('said', 'VERB'),\n",
       "  (',', '.'),\n",
       "  ('``', '.'),\n",
       "  ('considering', 'VERB'),\n",
       "  ('the', 'DET'),\n",
       "  ('widespread', 'ADJ'),\n",
       "  ('interest', 'NOUN'),\n",
       "  ('in', 'ADP'),\n",
       "  ('the', 'DET'),\n",
       "  ('election', 'NOUN'),\n",
       "  (',', '.'),\n",
       "  ('the', 'DET'),\n",
       "  ('number', 'NOUN'),\n",
       "  ('of', 'ADP'),\n",
       "  ('voters', 'NOUN'),\n",
       "  ('and', 'CONJ'),\n",
       "  ('the', 'DET'),\n",
       "  ('size', 'NOUN'),\n",
       "  ('of', 'ADP'),\n",
       "  ('this', 'DET'),\n",
       "  ('city', 'NOUN'),\n",
       "  (\"''\", '.'),\n",
       "  ('.', '.')],\n",
       " [('The', 'DET'),\n",
       "  ('jury', 'NOUN'),\n",
       "  ('said', 'VERB'),\n",
       "  ('it', 'PRON'),\n",
       "  ('did', 'VERB'),\n",
       "  ('find', 'VERB'),\n",
       "  ('that', 'ADP'),\n",
       "  ('many', 'ADJ'),\n",
       "  ('of', 'ADP'),\n",
       "  (\"Georgia's\", 'NOUN'),\n",
       "  ('registration', 'NOUN'),\n",
       "  ('and', 'CONJ'),\n",
       "  ('election', 'NOUN'),\n",
       "  ('laws', 'NOUN'),\n",
       "  ('``', '.'),\n",
       "  ('are', 'VERB'),\n",
       "  ('outmoded', 'ADJ'),\n",
       "  ('or', 'CONJ'),\n",
       "  ('inadequate', 'ADJ'),\n",
       "  ('and', 'CONJ'),\n",
       "  ('often', 'ADV'),\n",
       "  ('ambiguous', 'ADJ'),\n",
       "  (\"''\", '.'),\n",
       "  ('.', '.')]]"
      ]
     },
     "execution_count": 6,
     "metadata": {},
     "output_type": "execute_result"
    }
   ],
   "source": [
    "unigram_tagger.tag_sents(DATA)[:5]"
   ]
  },
  {
   "cell_type": "markdown",
   "id": "8adddd97",
   "metadata": {},
   "source": [
    "Unigram Tagger with a Verb Back-off (1-b)"
   ]
  },
  {
   "cell_type": "code",
   "execution_count": 7,
   "id": "31054436",
   "metadata": {},
   "outputs": [],
   "source": [
    "default_tagger = nltk.tag.DefaultTagger('VB')\n",
    "unigram_tagger_backoff = nltk.tag.UnigramTagger(DATA_TRAIN, backoff=default_tagger)"
   ]
  },
  {
   "cell_type": "code",
   "execution_count": 8,
   "id": "3289b3aa",
   "metadata": {},
   "outputs": [
    {
     "data": {
      "text/plain": [
       "0.9585078173831979"
      ]
     },
     "execution_count": 8,
     "metadata": {},
     "output_type": "execute_result"
    }
   ],
   "source": [
    "unigram_tagger_backoff.evaluate(DATA_TRAIN)"
   ]
  },
  {
   "cell_type": "code",
   "execution_count": 9,
   "id": "e5356fde",
   "metadata": {},
   "outputs": [
    {
     "data": {
      "text/plain": [
       "0.9090116513014942"
      ]
     },
     "execution_count": 9,
     "metadata": {},
     "output_type": "execute_result"
    }
   ],
   "source": [
    "unigram_tagger_backoff.evaluate(DATA_TEST)"
   ]
  },
  {
   "cell_type": "markdown",
   "id": "48480e7e",
   "metadata": {},
   "source": [
    "Trigram Tagger with Unigram Tagger and adjective backoff (1-c)"
   ]
  },
  {
   "cell_type": "code",
   "execution_count": 10,
   "id": "08c85a99",
   "metadata": {},
   "outputs": [],
   "source": [
    "adjective_tagger = nltk.tag.DefaultTagger('JJ')\n",
    "unigram_tagger_backoff2 = nltk.tag.UnigramTagger(DATA_TRAIN, backoff=adjective_tagger)"
   ]
  },
  {
   "cell_type": "code",
   "execution_count": 11,
   "id": "3c70c10e",
   "metadata": {},
   "outputs": [
    {
     "data": {
      "text/plain": [
       "(0.9585078173831979, 0.9090116513014942)"
      ]
     },
     "execution_count": 11,
     "metadata": {},
     "output_type": "execute_result"
    }
   ],
   "source": [
    "unigram_tagger_backoff.evaluate(DATA_TRAIN), unigram_tagger_backoff.evaluate(DATA_TEST)"
   ]
  },
  {
   "cell_type": "code",
   "execution_count": 12,
   "id": "894f64c2",
   "metadata": {},
   "outputs": [
    {
     "data": {
      "text/plain": [
       "(0.9739687219341117, 0.9148954244274946)"
      ]
     },
     "execution_count": 12,
     "metadata": {},
     "output_type": "execute_result"
    }
   ],
   "source": [
    "trigram_tagger_backoff = nltk.tag.TrigramTagger(DATA_TRAIN, backoff=unigram_tagger_backoff)\n",
    "trigram_tagger_backoff.evaluate(DATA_TRAIN), trigram_tagger_backoff.evaluate(DATA_TEST)"
   ]
  },
  {
   "cell_type": "markdown",
   "id": "205ea2af",
   "metadata": {},
   "source": [
    "Trigram Tagger with a Bigram Tagger backoff (1-d)"
   ]
  },
  {
   "cell_type": "code",
   "execution_count": 13,
   "id": "73bad184",
   "metadata": {},
   "outputs": [
    {
     "data": {
      "text/plain": [
       "(0.9703261562879323, 0.917309738628133)"
      ]
     },
     "execution_count": 13,
     "metadata": {},
     "output_type": "execute_result"
    }
   ],
   "source": [
    "bigram_tagger_backoff = nltk.tag.BigramTagger(DATA_TRAIN, backoff=unigram_tagger_backoff)\n",
    "bigram_tagger_backoff.evaluate(DATA_TRAIN), bigram_tagger_backoff.evaluate(DATA_TEST)"
   ]
  },
  {
   "cell_type": "code",
   "execution_count": 14,
   "id": "55e28ed4",
   "metadata": {},
   "outputs": [
    {
     "data": {
      "text/plain": [
       "(0.9739185899911043, 0.9166659215079628)"
      ]
     },
     "execution_count": 14,
     "metadata": {},
     "output_type": "execute_result"
    }
   ],
   "source": [
    "trigram_tagger_backoff = nltk.tag.TrigramTagger(DATA_TRAIN, backoff=bigram_tagger_backoff)\n",
    "trigram_tagger_backoff.evaluate(DATA_TRAIN), trigram_tagger_backoff.evaluate(DATA_TEST)"
   ]
  },
  {
   "cell_type": "markdown",
   "id": "6a428d54",
   "metadata": {},
   "source": [
    "#Average Perceptron Tagger (1 iteration) - 2A"
   ]
  },
  {
   "cell_type": "code",
   "execution_count": 15,
   "id": "469f226e",
   "metadata": {},
   "outputs": [],
   "source": [
    "perceptron_pretrained = nltk.perceptron.PerceptronTagger()"
   ]
  },
  {
   "cell_type": "code",
   "execution_count": 16,
   "id": "2cdfd51d",
   "metadata": {},
   "outputs": [
    {
     "data": {
      "text/plain": [
       "0.06772598428013198"
      ]
     },
     "execution_count": 16,
     "metadata": {},
     "output_type": "execute_result"
    }
   ],
   "source": [
    "perceptron_pretrained.evaluate(DATA_TEST)"
   ]
  },
  {
   "cell_type": "code",
   "execution_count": 17,
   "id": "98bb7538",
   "metadata": {},
   "outputs": [
    {
     "data": {
      "text/plain": [
       "[[('The', 'DT'),\n",
       "  ('Fulton', 'NNP'),\n",
       "  ('County', 'NNP'),\n",
       "  ('Grand', 'NNP'),\n",
       "  ('Jury', 'NNP'),\n",
       "  ('said', 'VBD'),\n",
       "  ('Friday', 'NNP'),\n",
       "  ('an', 'DT'),\n",
       "  ('investigation', 'NN'),\n",
       "  ('of', 'IN'),\n",
       "  (\"Atlanta's\", 'NNP'),\n",
       "  ('recent', 'JJ'),\n",
       "  ('primary', 'JJ'),\n",
       "  ('election', 'NN'),\n",
       "  ('produced', 'VBD'),\n",
       "  ('``', '``'),\n",
       "  ('no', 'DT'),\n",
       "  ('evidence', 'NN'),\n",
       "  (\"''\", \"''\"),\n",
       "  ('that', 'IN'),\n",
       "  ('any', 'DT'),\n",
       "  ('irregularities', 'NNS'),\n",
       "  ('took', 'VBD'),\n",
       "  ('place', 'NN'),\n",
       "  ('.', '.')],\n",
       " [('The', 'DT'),\n",
       "  ('jury', 'NN'),\n",
       "  ('further', 'RB'),\n",
       "  ('said', 'VBD'),\n",
       "  ('in', 'IN'),\n",
       "  ('term-end', 'JJ'),\n",
       "  ('presentments', 'NNS'),\n",
       "  ('that', 'IN'),\n",
       "  ('the', 'DT'),\n",
       "  ('City', 'NNP'),\n",
       "  ('Executive', 'NNP'),\n",
       "  ('Committee', 'NNP'),\n",
       "  (',', ','),\n",
       "  ('which', 'WDT'),\n",
       "  ('had', 'VBD'),\n",
       "  ('over-all', 'JJ'),\n",
       "  ('charge', 'NN'),\n",
       "  ('of', 'IN'),\n",
       "  ('the', 'DT'),\n",
       "  ('election', 'NN'),\n",
       "  (',', ','),\n",
       "  ('``', '``'),\n",
       "  ('deserves', 'VBZ'),\n",
       "  ('the', 'DT'),\n",
       "  ('praise', 'NN'),\n",
       "  ('and', 'CC'),\n",
       "  ('thanks', 'NNS'),\n",
       "  ('of', 'IN'),\n",
       "  ('the', 'DT'),\n",
       "  ('City', 'NNP'),\n",
       "  ('of', 'IN'),\n",
       "  ('Atlanta', 'NNP'),\n",
       "  (\"''\", \"''\"),\n",
       "  ('for', 'IN'),\n",
       "  ('the', 'DT'),\n",
       "  ('manner', 'NN'),\n",
       "  ('in', 'IN'),\n",
       "  ('which', 'WDT'),\n",
       "  ('the', 'DT'),\n",
       "  ('election', 'NN'),\n",
       "  ('was', 'VBD'),\n",
       "  ('conducted', 'VBN'),\n",
       "  ('.', '.')],\n",
       " [('The', 'DT'),\n",
       "  ('September-October', 'NNP'),\n",
       "  ('term', 'NN'),\n",
       "  ('jury', 'NN'),\n",
       "  ('had', 'VBD'),\n",
       "  ('been', 'VBN'),\n",
       "  ('charged', 'VBN'),\n",
       "  ('by', 'IN'),\n",
       "  ('Fulton', 'NNP'),\n",
       "  ('Superior', 'NNP'),\n",
       "  ('Court', 'NNP'),\n",
       "  ('Judge', 'NNP'),\n",
       "  ('Durwood', 'NNP'),\n",
       "  ('Pye', 'NNP'),\n",
       "  ('to', 'TO'),\n",
       "  ('investigate', 'VB'),\n",
       "  ('reports', 'NNS'),\n",
       "  ('of', 'IN'),\n",
       "  ('possible', 'JJ'),\n",
       "  ('``', '``'),\n",
       "  ('irregularities', 'NNS'),\n",
       "  (\"''\", \"''\"),\n",
       "  ('in', 'IN'),\n",
       "  ('the', 'DT'),\n",
       "  ('hard-fought', 'JJ'),\n",
       "  ('primary', 'NN'),\n",
       "  ('which', 'WDT'),\n",
       "  ('was', 'VBD'),\n",
       "  ('won', 'VBN'),\n",
       "  ('by', 'IN'),\n",
       "  ('Mayor-nominate', 'NNP'),\n",
       "  ('Ivan', 'NNP'),\n",
       "  ('Allen', 'NNP'),\n",
       "  ('Jr.', 'NNP'),\n",
       "  ('.', '.')],\n",
       " [('``', '``'),\n",
       "  ('Only', 'RB'),\n",
       "  ('a', 'DT'),\n",
       "  ('relative', 'JJ'),\n",
       "  ('handful', 'NN'),\n",
       "  ('of', 'IN'),\n",
       "  ('such', 'JJ'),\n",
       "  ('reports', 'NNS'),\n",
       "  ('was', 'VBD'),\n",
       "  ('received', 'VBN'),\n",
       "  (\"''\", \"''\"),\n",
       "  (',', ','),\n",
       "  ('the', 'DT'),\n",
       "  ('jury', 'NN'),\n",
       "  ('said', 'VBD'),\n",
       "  (',', ','),\n",
       "  ('``', '``'),\n",
       "  ('considering', 'VBG'),\n",
       "  ('the', 'DT'),\n",
       "  ('widespread', 'JJ'),\n",
       "  ('interest', 'NN'),\n",
       "  ('in', 'IN'),\n",
       "  ('the', 'DT'),\n",
       "  ('election', 'NN'),\n",
       "  (',', ','),\n",
       "  ('the', 'DT'),\n",
       "  ('number', 'NN'),\n",
       "  ('of', 'IN'),\n",
       "  ('voters', 'NNS'),\n",
       "  ('and', 'CC'),\n",
       "  ('the', 'DT'),\n",
       "  ('size', 'NN'),\n",
       "  ('of', 'IN'),\n",
       "  ('this', 'DT'),\n",
       "  ('city', 'NN'),\n",
       "  (\"''\", \"''\"),\n",
       "  ('.', '.')],\n",
       " [('The', 'DT'),\n",
       "  ('jury', 'NN'),\n",
       "  ('said', 'VBD'),\n",
       "  ('it', 'PRP'),\n",
       "  ('did', 'VBD'),\n",
       "  ('find', 'VB'),\n",
       "  ('that', 'IN'),\n",
       "  ('many', 'JJ'),\n",
       "  ('of', 'IN'),\n",
       "  (\"Georgia's\", 'NNP'),\n",
       "  ('registration', 'NN'),\n",
       "  ('and', 'CC'),\n",
       "  ('election', 'NN'),\n",
       "  ('laws', 'NNS'),\n",
       "  ('``', '``'),\n",
       "  ('are', 'VBP'),\n",
       "  ('outmoded', 'VBN'),\n",
       "  ('or', 'CC'),\n",
       "  ('inadequate', 'JJ'),\n",
       "  ('and', 'CC'),\n",
       "  ('often', 'RB'),\n",
       "  ('ambiguous', 'JJ'),\n",
       "  (\"''\", \"''\"),\n",
       "  ('.', '.')]]"
      ]
     },
     "execution_count": 17,
     "metadata": {},
     "output_type": "execute_result"
    }
   ],
   "source": [
    "perceptron_pretrained.tag_sents(DATA)[:5]"
   ]
  },
  {
   "cell_type": "code",
   "execution_count": 18,
   "id": "ee37999a",
   "metadata": {},
   "outputs": [],
   "source": [
    "perceptron_trained = nltk.perceptron.PerceptronTagger(load=False)\n",
    "perceptron_trained.train(DATA_TRAIN, nr_iter=1)"
   ]
  },
  {
   "cell_type": "code",
   "execution_count": 19,
   "id": "59b383c4",
   "metadata": {},
   "outputs": [
    {
     "data": {
      "text/plain": [
       "(0.9767494448153972, 0.9623769370400508)"
      ]
     },
     "execution_count": 19,
     "metadata": {},
     "output_type": "execute_result"
    }
   ],
   "source": [
    "perceptron_trained.evaluate(DATA_TRAIN), perceptron_trained.evaluate(DATA_TEST)"
   ]
  },
  {
   "cell_type": "markdown",
   "id": "bf2ce17c",
   "metadata": {},
   "source": [
    "#Average Perceptron Tagger (5 iteration) - 2B"
   ]
  },
  {
   "cell_type": "code",
   "execution_count": 20,
   "id": "38ed3d5e",
   "metadata": {},
   "outputs": [],
   "source": [
    "perceptron_trained = nltk.perceptron.PerceptronTagger(load=False)\n",
    "perceptron_trained.train(DATA_TRAIN, nr_iter=5)"
   ]
  },
  {
   "cell_type": "code",
   "execution_count": 21,
   "id": "82965150",
   "metadata": {},
   "outputs": [
    {
     "data": {
      "text/plain": [
       "(0.9909325181381636, 0.9720789033648386)"
      ]
     },
     "execution_count": 21,
     "metadata": {},
     "output_type": "execute_result"
    }
   ],
   "source": [
    "perceptron_trained.evaluate(DATA_TRAIN), perceptron_trained.evaluate(DATA_TEST)"
   ]
  },
  {
   "cell_type": "markdown",
   "id": "c65d1dc5",
   "metadata": {},
   "source": [
    "#Average Perceptron Tagger (10 iteration) - 2C"
   ]
  },
  {
   "cell_type": "code",
   "execution_count": 22,
   "id": "1ae7a79e",
   "metadata": {},
   "outputs": [],
   "source": [
    "perceptron_trained = nltk.perceptron.PerceptronTagger(load=False)\n",
    "perceptron_trained.train(DATA_TRAIN, nr_iter=10)"
   ]
  },
  {
   "cell_type": "code",
   "execution_count": 23,
   "id": "b4a2d445",
   "metadata": {},
   "outputs": [
    {
     "data": {
      "text/plain": [
       "(0.9946806808557843, 0.9729820357139664)"
      ]
     },
     "execution_count": 23,
     "metadata": {},
     "output_type": "execute_result"
    }
   ],
   "source": [
    "perceptron_trained.evaluate(DATA_TRAIN), perceptron_trained.evaluate(DATA_TEST)"
   ]
  },
  {
   "cell_type": "markdown",
   "id": "e8da01ba",
   "metadata": {},
   "source": [
    "Conditional Random Fields Model A "
   ]
  },
  {
   "cell_type": "code",
   "execution_count": 24,
   "id": "faf88d34",
   "metadata": {},
   "outputs": [],
   "source": [
    "import nltk\n",
    "crf_default = nltk.crf.CRFTagger()\n",
    "crf_default.train(DATA_TRAIN, 'crf_default.tag')"
   ]
  },
  {
   "cell_type": "code",
   "execution_count": 25,
   "id": "02bc28f4",
   "metadata": {},
   "outputs": [
    {
     "data": {
      "text/plain": [
       "(0.9676787630423049, 0.9576019600654547)"
      ]
     },
     "execution_count": 25,
     "metadata": {},
     "output_type": "execute_result"
    }
   ],
   "source": [
    "crf_default.evaluate(DATA_TRAIN), crf_default.evaluate(DATA_TEST)"
   ]
  },
  {
   "cell_type": "code",
   "execution_count": 26,
   "id": "49900443",
   "metadata": {},
   "outputs": [
    {
     "data": {
      "text/plain": [
       "[[('The', 'DET'),\n",
       "  ('Fulton', 'NOUN'),\n",
       "  ('County', 'NOUN'),\n",
       "  ('Grand', 'NOUN'),\n",
       "  ('Jury', 'NOUN'),\n",
       "  ('said', 'VERB'),\n",
       "  ('Friday', 'NOUN'),\n",
       "  ('an', 'DET'),\n",
       "  ('investigation', 'NOUN'),\n",
       "  ('of', 'ADP'),\n",
       "  (\"Atlanta's\", 'NOUN'),\n",
       "  ('recent', 'ADJ'),\n",
       "  ('primary', 'ADJ'),\n",
       "  ('election', 'NOUN'),\n",
       "  ('produced', 'VERB'),\n",
       "  ('``', '.'),\n",
       "  ('no', 'DET'),\n",
       "  ('evidence', 'NOUN'),\n",
       "  (\"''\", '.'),\n",
       "  ('that', 'ADP'),\n",
       "  ('any', 'DET'),\n",
       "  ('irregularities', 'NOUN'),\n",
       "  ('took', 'VERB'),\n",
       "  ('place', 'NOUN'),\n",
       "  ('.', '.')],\n",
       " [('The', 'DET'),\n",
       "  ('jury', 'NOUN'),\n",
       "  ('further', 'ADV'),\n",
       "  ('said', 'VERB'),\n",
       "  ('in', 'ADP'),\n",
       "  ('term-end', 'NOUN'),\n",
       "  ('presentments', 'NOUN'),\n",
       "  ('that', 'ADP'),\n",
       "  ('the', 'DET'),\n",
       "  ('City', 'NOUN'),\n",
       "  ('Executive', 'ADJ'),\n",
       "  ('Committee', 'NOUN'),\n",
       "  (',', '.'),\n",
       "  ('which', 'DET'),\n",
       "  ('had', 'VERB'),\n",
       "  ('over-all', 'ADJ'),\n",
       "  ('charge', 'NOUN'),\n",
       "  ('of', 'ADP'),\n",
       "  ('the', 'DET'),\n",
       "  ('election', 'NOUN'),\n",
       "  (',', '.'),\n",
       "  ('``', '.'),\n",
       "  ('deserves', 'VERB'),\n",
       "  ('the', 'DET'),\n",
       "  ('praise', 'NOUN'),\n",
       "  ('and', 'CONJ'),\n",
       "  ('thanks', 'NOUN'),\n",
       "  ('of', 'ADP'),\n",
       "  ('the', 'DET'),\n",
       "  ('City', 'NOUN'),\n",
       "  ('of', 'ADP'),\n",
       "  ('Atlanta', 'NOUN'),\n",
       "  (\"''\", '.'),\n",
       "  ('for', 'ADP'),\n",
       "  ('the', 'DET'),\n",
       "  ('manner', 'NOUN'),\n",
       "  ('in', 'ADP'),\n",
       "  ('which', 'DET'),\n",
       "  ('the', 'DET'),\n",
       "  ('election', 'NOUN'),\n",
       "  ('was', 'VERB'),\n",
       "  ('conducted', 'VERB'),\n",
       "  ('.', '.')],\n",
       " [('The', 'DET'),\n",
       "  ('September-October', 'NOUN'),\n",
       "  ('term', 'NOUN'),\n",
       "  ('jury', 'NOUN'),\n",
       "  ('had', 'VERB'),\n",
       "  ('been', 'VERB'),\n",
       "  ('charged', 'VERB'),\n",
       "  ('by', 'ADP'),\n",
       "  ('Fulton', 'NOUN'),\n",
       "  ('Superior', 'ADJ'),\n",
       "  ('Court', 'NOUN'),\n",
       "  ('Judge', 'NOUN'),\n",
       "  ('Durwood', 'NOUN'),\n",
       "  ('Pye', 'NOUN'),\n",
       "  ('to', 'PRT'),\n",
       "  ('investigate', 'VERB'),\n",
       "  ('reports', 'NOUN'),\n",
       "  ('of', 'ADP'),\n",
       "  ('possible', 'ADJ'),\n",
       "  ('``', '.'),\n",
       "  ('irregularities', 'NOUN'),\n",
       "  (\"''\", '.'),\n",
       "  ('in', 'ADP'),\n",
       "  ('the', 'DET'),\n",
       "  ('hard-fought', 'ADJ'),\n",
       "  ('primary', 'NOUN'),\n",
       "  ('which', 'DET'),\n",
       "  ('was', 'VERB'),\n",
       "  ('won', 'VERB'),\n",
       "  ('by', 'ADP'),\n",
       "  ('Mayor-nominate', 'NOUN'),\n",
       "  ('Ivan', 'NOUN'),\n",
       "  ('Allen', 'NOUN'),\n",
       "  ('Jr.', 'NOUN'),\n",
       "  ('.', '.')],\n",
       " [('``', '.'),\n",
       "  ('Only', 'ADV'),\n",
       "  ('a', 'DET'),\n",
       "  ('relative', 'ADJ'),\n",
       "  ('handful', 'NOUN'),\n",
       "  ('of', 'ADP'),\n",
       "  ('such', 'ADJ'),\n",
       "  ('reports', 'NOUN'),\n",
       "  ('was', 'VERB'),\n",
       "  ('received', 'VERB'),\n",
       "  (\"''\", '.'),\n",
       "  (',', '.'),\n",
       "  ('the', 'DET'),\n",
       "  ('jury', 'NOUN'),\n",
       "  ('said', 'VERB'),\n",
       "  (',', '.'),\n",
       "  ('``', '.'),\n",
       "  ('considering', 'VERB'),\n",
       "  ('the', 'DET'),\n",
       "  ('widespread', 'ADJ'),\n",
       "  ('interest', 'NOUN'),\n",
       "  ('in', 'ADP'),\n",
       "  ('the', 'DET'),\n",
       "  ('election', 'NOUN'),\n",
       "  (',', '.'),\n",
       "  ('the', 'DET'),\n",
       "  ('number', 'NOUN'),\n",
       "  ('of', 'ADP'),\n",
       "  ('voters', 'NOUN'),\n",
       "  ('and', 'CONJ'),\n",
       "  ('the', 'DET'),\n",
       "  ('size', 'NOUN'),\n",
       "  ('of', 'ADP'),\n",
       "  ('this', 'DET'),\n",
       "  ('city', 'NOUN'),\n",
       "  (\"''\", '.'),\n",
       "  ('.', '.')],\n",
       " [('The', 'DET'),\n",
       "  ('jury', 'NOUN'),\n",
       "  ('said', 'VERB'),\n",
       "  ('it', 'PRON'),\n",
       "  ('did', 'VERB'),\n",
       "  ('find', 'VERB'),\n",
       "  ('that', 'DET'),\n",
       "  ('many', 'ADJ'),\n",
       "  ('of', 'ADP'),\n",
       "  (\"Georgia's\", 'NOUN'),\n",
       "  ('registration', 'NOUN'),\n",
       "  ('and', 'CONJ'),\n",
       "  ('election', 'NOUN'),\n",
       "  ('laws', 'NOUN'),\n",
       "  ('``', '.'),\n",
       "  ('are', 'VERB'),\n",
       "  ('outmoded', 'VERB'),\n",
       "  ('or', 'CONJ'),\n",
       "  ('inadequate', 'ADJ'),\n",
       "  ('and', 'CONJ'),\n",
       "  ('often', 'ADV'),\n",
       "  ('ambiguous', 'ADJ'),\n",
       "  (\"''\", '.'),\n",
       "  ('.', '.')]]"
      ]
     },
     "execution_count": 26,
     "metadata": {},
     "output_type": "execute_result"
    }
   ],
   "source": [
    "crf_default.tag_sents(DATA)[:5]"
   ]
  },
  {
   "cell_type": "code",
   "execution_count": 28,
   "id": "38943e6d",
   "metadata": {},
   "outputs": [],
   "source": [
    "def custom_crf_features(tokens, idx):\n",
    "    feature_list = []\n",
    "    \n",
    "    # WORDS\n",
    "    feature_list.append(f'WORD_{tokens[idx]}')\n",
    "    try:\n",
    "        feature_list.append(f'WORD-1_{tokens[idx-1]}')\n",
    "    except IndexError:\n",
    "        pass\n",
    "    try:\n",
    "        feature_list.append(f'WORD+1_{tokens[idx+1]}')\n",
    "    except IndexError:\n",
    "        pass\n",
    "    \n",
    "    # SUFFIX\n",
    "    token = tokens[idx]  \n",
    "    if len(token) > 1:\n",
    "        feature_list.append(\"SUF_\" + token[-1:])\n",
    "    if len(token) > 2:\n",
    "        feature_list.append(\"SUF_\" + token[-2:])\n",
    "    if len(token) > 3:\n",
    "        feature_list.append(\"SUF_\" + token[-3:])\n",
    "                \n",
    "    return feature_list"
   ]
  },
  {
   "cell_type": "code",
   "execution_count": 29,
   "id": "509970ad",
   "metadata": {},
   "outputs": [],
   "source": [
    "crf_custom = nltk.crf.CRFTagger(feature_func=custom_crf_features)\n",
    "crf_custom.train(DATA_TRAIN, 'crf_custom.tag')"
   ]
  },
  {
   "cell_type": "code",
   "execution_count": 30,
   "id": "1d62ce1c",
   "metadata": {},
   "outputs": [
    {
     "data": {
      "text/plain": [
       "(0.9797968269679987, 0.9647420707662318)"
      ]
     },
     "execution_count": 30,
     "metadata": {},
     "output_type": "execute_result"
    }
   ],
   "source": [
    "crf_custom.evaluate(DATA_TRAIN), crf_custom.evaluate(DATA_TEST)"
   ]
  }
 ],
 "metadata": {
  "kernelspec": {
   "display_name": "Python 3",
   "language": "python",
   "name": "python3"
  },
  "language_info": {
   "codemirror_mode": {
    "name": "ipython",
    "version": 3
   },
   "file_extension": ".py",
   "mimetype": "text/x-python",
   "name": "python",
   "nbconvert_exporter": "python",
   "pygments_lexer": "ipython3",
   "version": "3.9.5"
  }
 },
 "nbformat": 4,
 "nbformat_minor": 5
}
