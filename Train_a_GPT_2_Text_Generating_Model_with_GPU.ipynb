{
  "nbformat": 4,
  "nbformat_minor": 0,
  "metadata": {
    "colab": {
      "name": "Copy of Train a GPT-2 Text-Generating Model w/ GPU",
      "provenance": [],
      "collapsed_sections": [],
      "toc_visible": true,
      "include_colab_link": true
    },
    "kernelspec": {
      "name": "python3",
      "display_name": "Python 3"
    },
    "accelerator": "GPU"
  },
  "cells": [
    {
      "cell_type": "markdown",
      "metadata": {
        "id": "view-in-github",
        "colab_type": "text"
      },
      "source": [
        "<a href=\"https://colab.research.google.com/github/ranielyn/besario/blob/main/Train_a_GPT_2_Text_Generating_Model_with_GPU.ipynb\" target=\"_parent\"><img src=\"https://colab.research.google.com/assets/colab-badge.svg\" alt=\"Open In Colab\"/></a>"
      ]
    },
    {
      "cell_type": "markdown",
      "metadata": {
        "id": "H7LoMj4GA4n_"
      },
      "source": [
        "#  Train a GPT-2 Text-Generating Model w/ GPU For Free \n",
        "\n",
        "by [Max Woolf](http://minimaxir.com)\n",
        "\n",
        "*Last updated: February 14th, 2021*\n",
        "\n",
        "Retrain an advanced text generating neural network on any text dataset **for free on a GPU using Collaboratory** using `gpt-2-simple`!\n",
        "\n",
        "For more about `gpt-2-simple`, you can visit [this GitHub repository](https://github.com/minimaxir/gpt-2-simple). You can also read my [blog post](https://minimaxir.com/2019/09/howto-gpt2/) for more information how to use this notebook!\n",
        "\n",
        "\n",
        "To get started:\n",
        "\n",
        "1. Copy this notebook to your Google Drive to keep it and save your changes. (File -> Save a Copy in Drive)\n",
        "2. Make sure you're running the notebook in Google Chrome.\n",
        "3. Run the cells below:\n"
      ]
    },
    {
      "cell_type": "code",
      "metadata": {
        "id": "KBkpRgBCBS2_",
        "colab": {
          "base_uri": "https://localhost:8080/"
        },
        "outputId": "668b261b-0702-431d-e184-fb6cd302a506"
      },
      "source": [
        "%tensorflow_version 1.x\n",
        "!pip install -q gpt-2-simple\n",
        "import gpt_2_simple as gpt2\n",
        "from datetime import datetime\n",
        "from google.colab import files"
      ],
      "execution_count": 1,
      "outputs": [
        {
          "output_type": "stream",
          "text": [
            "TensorFlow 1.x selected.\n",
            "WARNING:tensorflow:\n",
            "The TensorFlow contrib module will not be included in TensorFlow 2.0.\n",
            "For more information, please see:\n",
            "  * https://github.com/tensorflow/community/blob/master/rfcs/20180907-contrib-sunset.md\n",
            "  * https://github.com/tensorflow/addons\n",
            "  * https://github.com/tensorflow/io (for I/O related ops)\n",
            "If you depend on functionality not listed there, please file an issue.\n",
            "\n"
          ],
          "name": "stdout"
        }
      ]
    },
    {
      "cell_type": "markdown",
      "metadata": {
        "id": "Bj2IJLHP3KwE"
      },
      "source": [
        "## GPU\n",
        "\n",
        "Colaboratory uses either a Nvidia T4 GPU or an Nvidia K80 GPU. The T4 is slightly faster than the old K80 for training GPT-2, and has more memory allowing you to train the larger GPT-2 models and generate more text.\n",
        "\n",
        "You can verify which GPU is active by running the cell below."
      ]
    },
    {
      "cell_type": "code",
      "metadata": {
        "id": "sUmTooTW3osf",
        "colab": {
          "base_uri": "https://localhost:8080/"
        },
        "outputId": "b9b5ff97-2123-4d51-eae8-81cd493ad609"
      },
      "source": [
        "!nvidia-smi"
      ],
      "execution_count": 2,
      "outputs": [
        {
          "output_type": "stream",
          "text": [
            "Tue Aug  3 14:08:59 2021       \n",
            "+-----------------------------------------------------------------------------+\n",
            "| NVIDIA-SMI 470.42.01    Driver Version: 460.32.03    CUDA Version: 11.2     |\n",
            "|-------------------------------+----------------------+----------------------+\n",
            "| GPU  Name        Persistence-M| Bus-Id        Disp.A | Volatile Uncorr. ECC |\n",
            "| Fan  Temp  Perf  Pwr:Usage/Cap|         Memory-Usage | GPU-Util  Compute M. |\n",
            "|                               |                      |               MIG M. |\n",
            "|===============================+======================+======================|\n",
            "|   0  Tesla T4            Off  | 00000000:00:04.0 Off |                    0 |\n",
            "| N/A   57C    P8    10W /  70W |      0MiB / 15109MiB |      0%      Default |\n",
            "|                               |                      |                  N/A |\n",
            "+-------------------------------+----------------------+----------------------+\n",
            "                                                                               \n",
            "+-----------------------------------------------------------------------------+\n",
            "| Processes:                                                                  |\n",
            "|  GPU   GI   CI        PID   Type   Process name                  GPU Memory |\n",
            "|        ID   ID                                                   Usage      |\n",
            "|=============================================================================|\n",
            "|  No running processes found                                                 |\n",
            "+-----------------------------------------------------------------------------+\n"
          ],
          "name": "stdout"
        }
      ]
    },
    {
      "cell_type": "markdown",
      "metadata": {
        "id": "0wXB05bPDYxS"
      },
      "source": [
        "## Downloading GPT-2\n",
        "\n",
        "If you're retraining a model on new text, you need to download the GPT-2 model first. \n",
        "\n",
        "There are three released sizes of GPT-2:\n",
        "\n",
        "* `124M` (default): the \"small\" model, 500MB on disk.\n",
        "* `355M`: the \"medium\" model, 1.5GB on disk.\n",
        "* `774M`: the \"large\" model, cannot currently be finetuned with Colaboratory but can be used to generate text from the pretrained model (see later in Notebook)\n",
        "* `1558M`: the \"extra large\", true model. Will not work if a K80/P4 GPU is attached to the notebook. (like `774M`, it cannot be finetuned).\n",
        "\n",
        "Larger models have more knowledge, but take longer to finetune and longer to generate text. You can specify which base model to use by changing `model_name` in the cells below.\n",
        "\n",
        "The next cell downloads it from Google Cloud Storage and saves it in the Colaboratory VM at `/models/<model_name>`.\n",
        "\n",
        "This model isn't permanently saved in the Colaboratory VM; you'll have to redownload it if you want to retrain it at a later time."
      ]
    },
    {
      "cell_type": "code",
      "metadata": {
        "id": "P8wSlgXoDPCR",
        "colab": {
          "base_uri": "https://localhost:8080/"
        },
        "outputId": "674c1b8e-c3c5-4853-c727-a17c1f20f172"
      },
      "source": [
        "gpt2.download_gpt2(model_name=\"124M\")"
      ],
      "execution_count": 3,
      "outputs": [
        {
          "output_type": "stream",
          "text": [
            "Fetching checkpoint: 1.05Mit [00:00, 331Mit/s]                                                      \n",
            "Fetching encoder.json: 1.05Mit [00:00, 3.33Mit/s]\n",
            "Fetching hparams.json: 1.05Mit [00:00, 435Mit/s]                                                    \n",
            "Fetching model.ckpt.data-00000-of-00001: 498Mit [00:27, 18.3Mit/s]                                  \n",
            "Fetching model.ckpt.index: 1.05Mit [00:00, 577Mit/s]                                                \n",
            "Fetching model.ckpt.meta: 1.05Mit [00:00, 3.92Mit/s]\n",
            "Fetching vocab.bpe: 1.05Mit [00:00, 4.14Mit/s]\n"
          ],
          "name": "stderr"
        }
      ]
    },
    {
      "cell_type": "markdown",
      "metadata": {
        "id": "N8KXuKWzQSsN"
      },
      "source": [
        "## Mounting Google Drive\n",
        "\n",
        "The best way to get input text to-be-trained into the Colaboratory VM, and to get the trained model *out* of Colaboratory, is to route it through Google Drive *first*.\n",
        "\n",
        "Running this cell (which will only work in Colaboratory) will mount your personal Google Drive in the VM, which later cells can use to get data in/out. (it will ask for an auth code; that auth is not saved anywhere)"
      ]
    },
    {
      "cell_type": "code",
      "metadata": {
        "id": "puq4iC6vUAHc",
        "colab": {
          "base_uri": "https://localhost:8080/"
        },
        "outputId": "086a44c2-071a-4e95-e67f-e60e74be7de1"
      },
      "source": [
        "gpt2.mount_gdrive()"
      ],
      "execution_count": 4,
      "outputs": [
        {
          "output_type": "stream",
          "text": [
            "Drive already mounted at /content/drive; to attempt to forcibly remount, call drive.mount(\"/content/drive\", force_remount=True).\n"
          ],
          "name": "stdout"
        }
      ]
    },
    {
      "cell_type": "markdown",
      "metadata": {
        "id": "BT__brhBCvJu"
      },
      "source": [
        "## Uploading a Text File to be Trained to Colaboratory\n",
        "\n",
        "In the Colaboratory Notebook sidebar on the left of the screen, select *Files*. From there you can upload files:\n",
        "\n",
        "![alt text](https://i.imgur.com/TGcZT4h.png)\n",
        "\n",
        "Upload **any smaller text file**  (<10 MB) and update the file name in the cell below, then run the cell."
      ]
    },
    {
      "cell_type": "code",
      "metadata": {
        "id": "6OFnPCLADfll"
      },
      "source": [
        "file_name = \"title_ref.txt\""
      ],
      "execution_count": 5,
      "outputs": []
    },
    {
      "cell_type": "markdown",
      "metadata": {
        "id": "HeeSKtNWUedE"
      },
      "source": [
        "If your text file is larger than 10MB, it is recommended to upload that file to Google Drive first, then copy that file from Google Drive to the Colaboratory VM."
      ]
    },
    {
      "cell_type": "code",
      "metadata": {
        "id": "-Z6okFD8VKtS"
      },
      "source": [
        "gpt2.copy_file_from_gdrive(file_name)"
      ],
      "execution_count": 6,
      "outputs": []
    },
    {
      "cell_type": "markdown",
      "metadata": {
        "id": "LdpZQXknFNY3"
      },
      "source": [
        "## Finetune GPT-2\n",
        "\n",
        "The next cell will start the actual finetuning of GPT-2. It creates a persistent TensorFlow session which stores the training config, then runs the training for the specified number of `steps`. (to have the finetuning run indefinitely, set `steps = -1`)\n",
        "\n",
        "The model checkpoints will be saved in `/checkpoint/run1` by default. The checkpoints are saved every 500 steps (can be changed) and when the cell is stopped.\n",
        "\n",
        "The training might time out after 4ish hours; make sure you end training and save the results so you don't lose them!\n",
        "\n",
        "**IMPORTANT NOTE:** If you want to rerun this cell, **restart the VM first** (Runtime -> Restart Runtime). You will need to rerun imports but not recopy files.\n",
        "\n",
        "Other optional-but-helpful parameters for `gpt2.finetune`:\n",
        "\n",
        "\n",
        "*  **`restore_from`**: Set to `fresh` to start training from the base GPT-2, or set to `latest` to restart training from an existing checkpoint.\n",
        "* **`sample_every`**: Number of steps to print example output\n",
        "* **`print_every`**: Number of steps to print training progress.\n",
        "* **`learning_rate`**:  Learning rate for the training. (default `1e-4`, can lower to `1e-5` if you have <1MB input data)\n",
        "*  **`run_name`**: subfolder within `checkpoint` to save the model. This is useful if you want to work with multiple models (will also need to specify  `run_name` when loading the model)\n",
        "* **`overwrite`**: Set to `True` if you want to continue finetuning an existing model (w/ `restore_from='latest'`) without creating duplicate copies. "
      ]
    },
    {
      "cell_type": "code",
      "metadata": {
        "id": "aeXshJM-Cuaf",
        "colab": {
          "base_uri": "https://localhost:8080/"
        },
        "outputId": "3e7ad677-1578-4220-e0c3-2c2b80027b28"
      },
      "source": [
        "sess = gpt2.start_tf_sess()\n",
        "\n",
        "gpt2.finetune(sess,\n",
        "              dataset=file_name,\n",
        "              model_name='124M',\n",
        "              steps=1000,\n",
        "              restore_from='fresh',\n",
        "              run_name='run1',\n",
        "              print_every=10,\n",
        "              sample_every=200,\n",
        "              save_every=500\n",
        "              )"
      ],
      "execution_count": 7,
      "outputs": [
        {
          "output_type": "stream",
          "text": [
            "WARNING:tensorflow:From /usr/local/lib/python3.7/dist-packages/gpt_2_simple/src/sample.py:17: where (from tensorflow.python.ops.array_ops) is deprecated and will be removed in a future version.\n",
            "Instructions for updating:\n",
            "Use tf.where in 2.0, which has the same broadcast rule as np.where\n",
            "Loading checkpoint models/124M/model.ckpt\n",
            "INFO:tensorflow:Restoring parameters from models/124M/model.ckpt\n"
          ],
          "name": "stdout"
        },
        {
          "output_type": "stream",
          "text": [
            "100%|██████████| 1/1 [00:00<00:00, 392.65it/s]"
          ],
          "name": "stderr"
        },
        {
          "output_type": "stream",
          "text": [
            "Loading dataset...\n",
            "dataset has 8408 tokens\n",
            "Training...\n"
          ],
          "name": "stdout"
        },
        {
          "output_type": "stream",
          "text": [
            "\n"
          ],
          "name": "stderr"
        },
        {
          "output_type": "stream",
          "text": [
            "[10 | 28.47] loss=4.05 avg=4.05\n",
            "[20 | 50.78] loss=3.19 avg=3.62\n",
            "[30 | 73.73] loss=2.63 avg=3.29\n",
            "[40 | 96.60] loss=2.04 avg=2.97\n",
            "[50 | 119.20] loss=1.54 avg=2.68\n",
            "[60 | 141.84] loss=0.72 avg=2.35\n",
            "[70 | 164.61] loss=0.37 avg=2.05\n",
            "[80 | 187.36] loss=0.20 avg=1.82\n",
            "[90 | 210.10] loss=0.27 avg=1.64\n",
            "[100 | 232.80] loss=0.10 avg=1.48\n",
            "[110 | 255.53] loss=0.06 avg=1.34\n",
            "[120 | 278.29] loss=0.04 avg=1.23\n",
            "[130 | 301.05] loss=0.04 avg=1.13\n",
            "[140 | 323.79] loss=0.03 avg=1.05\n",
            "[150 | 346.58] loss=0.02 avg=0.97\n",
            "[160 | 369.37] loss=0.03 avg=0.91\n",
            "[170 | 392.15] loss=0.02 avg=0.85\n",
            "[180 | 414.90] loss=0.02 avg=0.80\n",
            "[190 | 437.67] loss=0.02 avg=0.76\n",
            "[200 | 460.43] loss=0.02 avg=0.72\n",
            "======== SAMPLE 1 ========\n",
            "imental bistability of quantum channels\t\t\n",
            "theoretical framework for higher-order quantum theory\t\t\n",
            "composition rules for quantum processes: a no-go theorem\t\t\n",
            "topological time crystals\t\t\n",
            "device-independent certification of non-classical joint measurements via causal models\t\t\n",
            "space-time duality and quantum temporal imaging\t\t\n",
            "implications of exceptional points for few-photon transport in waveguide quantum electrodynamics\t\t\n",
            "bayesian deep learning on a quantum computer\t\t\n",
            "quantum-assisted quantum compiling\t\t\n",
            "site-resolved imaging of beryllium ion crystals in a high-optical-access penning trap with inbore optomechanics\t\t\n",
            "when do composed maps become entanglement breaking?\t\t\n",
            "quantum random self-modifiable computation\t\t\n",
            "translationally invariant universal classical hamiltonians\t\t\n",
            "stable topological edge states in a non-hermitian four-band model\t\t\n",
            "generalized adiabatic theorem and strong-coupling limits\t\t\n",
            "discrete time quasi-crystals\t\t\n",
            "error-mitigated digital quantum simulation\t\t\n",
            "arbitrarily large violations of non-contextuality in single mode photon states with positive wigner function\t\t\n",
            "nonreciprocal control and cooling of phonon modes in an optomechanical system\t\t\n",
            "surface plasmon launching by polariton superradiance\t\t\n",
            "tensor-network approach to compute genuine multisite entanglement in infinite quantum spin chains\t\t\n",
            "quantum hydrodynamics for supersolid crystals and quasicrystals\t\t\n",
            "a quantum-inspired classical algorithm for recommendation systems\t\t\n",
            "quantum computation as gravity\t\t\n",
            "non-markovianity through quantum coherence in an all-optical setup\t\t\n",
            "efficient quantum algorithms for $ghz$ and $w$ states\t and implementation on the ibm quantum computer\t\n",
            "quantum thermometry\t\t\n",
            "time of arrival and localization of relativistic particles\t\t\n",
            "spectrally entangled biphoton state of cascade emissions from a doppler-broadened atomic ensemble\t\t\n",
            "topologically protected heat pumping from braiding majorana zero modes\t\t\n",
            "pairwise completely positive matrices and conjugate local diagonal unitary invariant quantum states\t\t\n",
            "rapid filling of the spin gap with temperature in the schwinger-boson mean-field theory of the antiferromagnetic heisenberg kagome model\t\t\n",
            "squeezed field path integral description of second sound in bose-einstein condensates\t\t\n",
            "quantum simulation of coherent hawking-unruh radiation\t\t\n",
            "smooth entropy in axiomatic thermodynamics\t\t\n",
            "$\\hat $j$ and $w$ states\t and implementation on the ibm quantum computer\t\n",
            "quantum simulation of coherent hawking-unruh radiation\t\t\n",
            "smooth entropy in axiomatic thermodynamics\t\t\n",
            "$ghz$ and $w$ states\t\n",
            "\n",
            "quantum features and signatures in dichroism-free subspaces\t\t\n",
            "\n",
            "excitonic switching and spin-orbit coupling in an all-optical setup\t\t\n",
            "\n",
            "the circuit-broken kolmogorov--wiener--masani model\t\t\n",
            "\n",
            "breaking the linear algebraic formula for nasty-unruh quantum electrodynamics in Schrodinger's berry: $p$-spin models\t\t\n",
            "active engineering of four-wave mixing spectral entanglement in hollow-core fibers\t\t\n",
            "\n",
            "the supersymmetric wkb formalism is not exact for all additive shape invariant potentials\t\t\n",
            "\n",
            "quantum mappings acting by coordinate transformations on wigner distributions\t\t\n",
            "\n",
            "all-microwave control and dispersive readout of gate-defined resonators in silicon\t\t\n",
            "\n",
            "modulation effect in fractonic random circuits on the geometry of the set at infinite temperature\t\t\n",
            "\n",
            "device-independent certification of quantum work\t\t\n",
            "\n",
            "quantum error correction and one-way locc state distinguishability\t\t\n",
            "\n",
            "site-resolved imaging of beryllium ion crystals in a 50km commercial broadband fiber\t\t\n",
            "\n",
            "the geometry of the quantum group\t\t\n",
            "\n",
            "linear-dimensional tomography of a high-dimensional quantum communication channel\t\t\n",
            "\n",
            "non-markovianity through quantum coherence in an all-optical setup\t\t\n",
            "\n",
            "dynamics of single-photon generation and control in a quantum processor\t\t\n",
            "\n",
            "all-microwave control and dispersive readout of quantum spin chains\t\t\n",
            "\n",
            "enhanced molecular chiral quantum phase transition with one-photon-readout at room temperature\t\t\n",
            "\n",
            "omegptive states of quantum wigner diagrams\t\t\n",
            "\n",
            "more on complexity of operators in quantum field theory\t\t\n",
            "\n",
            "more on complexity of operators in quantum field\n",
            "\n",
            "[210 | 493.40] loss=0.02 avg=0.68\n",
            "[220 | 516.15] loss=0.02 avg=0.65\n",
            "[230 | 538.94] loss=0.02 avg=0.62\n",
            "[240 | 561.73] loss=0.02 avg=0.59\n",
            "[250 | 584.56] loss=0.02 avg=0.56\n",
            "[260 | 607.34] loss=0.02 avg=0.54\n",
            "[270 | 630.15] loss=0.02 avg=0.52\n",
            "[280 | 652.94] loss=0.02 avg=0.50\n",
            "[290 | 675.69] loss=0.02 avg=0.48\n",
            "[300 | 698.45] loss=0.02 avg=0.46\n",
            "[310 | 721.22] loss=0.02 avg=0.44\n",
            "[320 | 744.00] loss=0.02 avg=0.43\n",
            "[330 | 766.78] loss=0.02 avg=0.41\n",
            "[340 | 789.54] loss=0.02 avg=0.40\n",
            "[350 | 812.31] loss=0.02 avg=0.39\n",
            "[360 | 835.05] loss=0.02 avg=0.38\n",
            "[370 | 857.78] loss=0.02 avg=0.36\n",
            "[380 | 880.62] loss=0.02 avg=0.35\n",
            "[390 | 903.39] loss=0.01 avg=0.34\n",
            "[400 | 926.13] loss=0.02 avg=0.33\n",
            "======== SAMPLE 1 ========\n",
            " in motion theorem and isospectrality\t\t\n",
            "multipartite-entanglement tomography of a quantum simulator\t\t\n",
            "2-d compass codes\t\t\n",
            "quantum error correction and one-way locc state distinguishability\t\t\n",
            "dynamical fidelity susceptibility of decoherence-free subspaces\t\t\n",
            "non-hermitian phase transition from a polariton bose-einstein condensate to a photon laser\t\t\n",
            "indistinguishable single-photon sources with dissipative emitter coupled to cascaded cavities\t\t\n",
            "gate-based single-shot readout of spins in silicon\t\t\n",
            "quantum interferometry with a g-factor-tunable spin qubit\t\t\n",
            "effect of long-range interactions on multipartite entanglement in heisenberg chains\t\t\n",
            "tackling the qubit mapping problem for nisq-era quantum devices\t\t\n",
            "fast\t high-fidelity quantum non-demolition readout of a superconducting qubit using a transverse coupling\n",
            "many body localization in the presence of a central qudit\t\t\n",
            "enhanced molecular chiral signals via molecular coherence\t\t\n",
            "torque of guided light on an atom near an optical nanofiber\t\t\n",
            "contributions to single-shot energy exchanges in open quantum systems\t\t\n",
            "experimental simulation of bosonic creation and annihilation operators in a quantum processor\t\t\n",
            "certifying quantum memories with coherence\t\t\n",
            "can quantum physics help solve the hard problem of consciousness? a hypothesis based on entangled spins and photons\t\t\n",
            "quantum simulation and optimization in hot quantum networks\t\t\n",
            "a cmos dynamic random access architecture for radio-frequency readout of quantum devices\t\t\n",
            "observation of many-body localization in a one-dimensional system with single-particle mobility edge\t\t\n",
            "quantum revival patterns from classical phase-space trajectories\t\t\n",
            "correlators exceeding one in continuous measurements of superconducting qubits\t\t\n",
            "quantum system partitioning at the single-particle level\t\t\n",
            "optimal probabilistic storage and retrieval of unitary channels\t\t\n",
            "optimal usage of quantum random access memory in quantum machine learning\t\t\n",
            "gate-efficient simulation of molecular eigenstates on a quantum computer\t\t\n",
            "quantum information processing and composite quantum fields\t\t\n",
            "a classical algorithm for quantum $\\textsf{su}(2)$ schur sampling\t\t\n",
            "characterization of gram matrices of multimode coherent states\t\t\n",
            "electric-field noise from thermally-activated fluctuators in a surface ion trap\t\t\n",
            "stationary entangled radiation from micromechanical motion\t\t\n",
            "topological soliton-polaritons in 1d systems of light and fermionic matter\t\t\n",
            "sawtooth wave adiabatic passage slowing of dysprosium\t\t\n",
            "more on complexity of operators in quantum field theory\t\t\n",
            "entangling detectors in anti-de sitter space\t\t\n",
            "efficient methods for one-shot quantum communication\t\t\n",
            "mixed-order symmetry-breaking quantum phase transition far from equilibrium\t\t\n",
            "spectrum\t landau-zener theory and driven-dissipative dynamics of a staircase of photons\t\n",
            "joint measurability meets birkhoff-von neumann's theorem\t\t\n",
            "turning a molecule into a coherent two-level quantum system\t\t\n",
            "photon-antibunching in the fluorescence of statistical ensembles of emitters at an optical nanofiber-tip\t\t\n",
            "operator size at finite temperature and planckian bounds on quantum dynamics\t\t\n",
            "majorana qubit readout using longitudinal qubit-resonator interaction\t\t\n",
            "ultralong spin lifetimes in one-dimensional semiconductor nanowires\t\t\n",
            "continuous real-time tracking of a quantum phase below the standard quantum limit\t\t\n",
            "anomalous quantum correlations in the motion of a trapped ion\t\t\n",
            "a natural cure for causality violations in newton-schr\\\"odinger equation\t\t\n",
            "resolution of gauge ambiguities in ultrastrong-coupling cavity qed\t\t\n",
            "entropy methods for cmb analysis of anisotropy and non-gaussianity\t\t\n",
            "fabrication limits of waveguides in nonlinear crystals and their impact on quantum optics applications\t\t\n",
            "axiomatic construction of quantum langevin equations\t\t\n",
            "bose condensation of squeezed light\t\t\n",
            "finite-size scaling of the photon-blockade breakdown dissipative quantum phase transition\t\t\n",
            "analysis of the conditional mutual information in ballistic and diffusive non-equilibrium steady-states\t\t\n",
            "using all transverse degrees of freedom in quantum communications based on a generic mode sorter\t\t\n",
            "a landau-zener lindblad equation and work extraction from coherences\t\t\n",
            "single-shot holographic compression from the area law\t\t\n",
            "quantum ch\n",
            "\n",
            "[410 | 958.55] loss=0.01 avg=0.32\n",
            "[420 | 981.35] loss=0.02 avg=0.31\n",
            "[430 | 1004.14] loss=0.01 avg=0.31\n",
            "[440 | 1026.88] loss=0.01 avg=0.30\n",
            "[450 | 1049.61] loss=0.02 avg=0.29\n",
            "[460 | 1072.37] loss=0.02 avg=0.28\n",
            "[470 | 1095.09] loss=0.02 avg=0.28\n",
            "[480 | 1117.88] loss=0.01 avg=0.27\n",
            "[490 | 1140.62] loss=0.01 avg=0.26\n",
            "[500 | 1163.40] loss=0.01 avg=0.26\n",
            "Saving checkpoint/run1/model-500\n",
            "[510 | 1189.17] loss=0.02 avg=0.25\n",
            "[520 | 1211.97] loss=0.02 avg=0.24\n",
            "[530 | 1234.74] loss=0.02 avg=0.24\n",
            "[540 | 1257.51] loss=0.01 avg=0.23\n",
            "[550 | 1280.23] loss=0.01 avg=0.23\n",
            "[560 | 1302.97] loss=0.02 avg=0.22\n",
            "[570 | 1325.71] loss=0.02 avg=0.22\n",
            "[580 | 1348.46] loss=0.02 avg=0.21\n",
            "[590 | 1371.17] loss=0.01 avg=0.21\n",
            "[600 | 1393.90] loss=0.01 avg=0.21\n",
            "======== SAMPLE 1 ========\n",
            "\t\t\n",
            "local-learning using a single electronic spin via modulation in circuit qed: the bosonic creutz ladder\t\t\n",
            "a computable branching random walk for the many-body wigner quantum simulator\t\t\n",
            "finding and breaking the quantum adiabatic speed limit by studying both the moving topological order and the entanglement disequilibrium\t\t\n",
            "ocean floor plume in the Hemingway-Bock-Schwinger gap\t\t\n",
            "revealing the quantitative relation between simultaneous correlations in complementary bases and quantum steering for two-qubit bell diagonal states\t\t\n",
            "a simple quantum neural net with a periodic activation function\t\t\n",
            "ultrastrong coupling regimes of light-matter interaction\t\t\n",
            "emergent statistical mechanics of entanglement in random unitary circuits\t\t\n",
            "enriching a linear/non-linear lambda calculus: a programming language for string diagrams\t\t\n",
            "quantum algorithm for dynamic programming approach for dags. applications for zhegalkin polynomial evaluation and some problems on dags\t\t\n",
            "quantum work statistics and resource theories: bridging the gap through renyi divergences\t\t\n",
            "many-body localization\t thermalization\t and entanglement\n",
            "experimental demonstration on quantum sensitivity to available information in decision making\t\t\n",
            "coherence\t entanglement and quantumness in closed and open systems with conserved charge\t with an application to many-body localisation\n",
            "hamiltonian simulation in the interaction picture\t\t\n",
            "maxwell's demon in superconducting circuits\t\t\n",
            "geometric dynamics of a harmonic oscillator\t arbitrary minimal uncertainty states and the smallest step 3 nilpotent lie group\t\n",
            "shaded tangles for the design and verification of quantum circuits\t\t\n",
            "quantum computational supremacy in the sampling of bosonic random walkers on a one-dimensional lattice\t\t\n",
            "observing momentum disturbance in double-slit \"which-way\" measurements\t\t\n",
            "the second law and beyond in microscopic quantum setups\t\t\n",
            "stabilizing quantum coherence against pure dephasing in the presence of quantum feedback at finite temperature\t\t\n",
            "span program for non-binary functions\t\t\n",
            "emergent finite frequency criticality of driven-dissipative correlated lattice bosons\t\t\n",
            "quantum coherent absorption of squeezed light\t\t\n",
            "computational tools for solving a marginal problem with applications in bell non-locality and causal modeling\t\t\n",
            "optimal universal learning machines for quantum state discrimination\t\t\n",
            "quantum control for high-fidelity multi-qubit gates\t\t\n",
            "chaos and high temperature pure state thermalization\t\t\n",
            "theorems on entanglement typicality in non-equilibrium dynamics\t\t\n",
            "electric-field inputs for molecular quantum-dot cellular automata circuits\t\t\n",
            "quantum thermodynamics of nanoscale thermoelectrics and electronic devices\t\t\n",
            "fidelity benchmarks for two-qubit gates in silicon\t\t\n",
            "open quantum systems with local and collective incoherent processes: efficient numerical simulation using permutational invariance\t\t\n",
            "experimental investigation of performance differences between coherent ising machines and a quantum annealer\t\t\n",
            "ancilla-assisted measurement of quantum work\t\t\n",
            "equilibration times in closed quantum many-body systems\t\t\n",
            "individual control and readout of qubits in a sub-diffraction volume\t\t\n",
            "asymptotic correlations in gapped and critical topological phases of 1d quantum systems\t\t\n",
            "photon entanglement entropy as a probe of many-body correlations and fluctuations\t\t\n",
            "numerical analyses of emission of a single-photon pulse based on single-atom cavity quantum electrodynamics\t\t\n",
            "quantum dark solitons in the one-dimensional bose gas\t\t\n",
            "variational quantum computation of excited states\t\t\n",
            "spontaneous and stimulated emissions of quantum free-electron wavepackets - qed analysis\t\t\n",
            "work\t heat and entropy production along quantum trajectories\t\n",
            "the reaction coordinate mapping in quantum thermodynamics\t\t\n",
            "6 gbps real-time optical quantum random number generator based on vacuum fluctuation\t\t\n",
            "resource theory of quantum thermodynamics: thermal operations and second laws\t\t\n",
            "experimental demonstration of quantum walks with initial superposition states\t\t\n",
            "feasible platform to study negative temperatures\t\t\n",
            "variational approach for impurity dynamics at finite temperature\t\t\n",
            "geometry and speed of evolution for a spin-s system with long-range zz-type ising interaction\t\t\n",
            "fluctuating work in coherent quantum systems: proposals and limitations\t\t\n",
            "gluing together modular flows with free fermions\t\t\n",
            "tunable coupling between a superconducting resonator and an artificial atom\t\t\n",
            "measuring quantized circular dichroism in ultracold topological matter\t\t\n",
            "effect of quantum and thermal jitter on the feasibility of beckenstein's proposed experiment to search for planck-scale signals\t\t\n",
            "one-dimensional\n",
            "\n",
            "[610 | 1426.20] loss=0.02 avg=0.20\n",
            "[620 | 1448.96] loss=0.01 avg=0.20\n",
            "[630 | 1471.75] loss=0.01 avg=0.19\n",
            "[640 | 1494.51] loss=0.01 avg=0.19\n",
            "[650 | 1517.25] loss=0.01 avg=0.19\n",
            "[660 | 1540.00] loss=0.01 avg=0.18\n",
            "[670 | 1562.72] loss=0.01 avg=0.18\n",
            "[680 | 1585.47] loss=0.01 avg=0.18\n",
            "[690 | 1608.23] loss=0.02 avg=0.17\n",
            "[700 | 1630.96] loss=0.01 avg=0.17\n",
            "[710 | 1653.67] loss=0.01 avg=0.17\n",
            "[720 | 1676.43] loss=0.01 avg=0.16\n",
            "[730 | 1699.16] loss=0.01 avg=0.16\n",
            "[740 | 1721.87] loss=0.02 avg=0.16\n",
            "[750 | 1744.58] loss=0.01 avg=0.15\n",
            "[760 | 1767.33] loss=0.01 avg=0.15\n",
            "[770 | 1790.10] loss=0.01 avg=0.15\n",
            "[780 | 1812.84] loss=0.01 avg=0.15\n",
            "[790 | 1835.60] loss=0.01 avg=0.14\n",
            "[800 | 1858.35] loss=0.02 avg=0.14\n",
            "======== SAMPLE 1 ========\n",
            " major and efficient two-particle quantum simulation in body language\t\t\n",
            "bundle of skeletally compatible quantum non-demolition codes\t\t\n",
            "implications of nonreciprocal control and control in non-self\t\t\n",
            "bayesian deep learning on a quantum computer\t\t\n",
            "quantum-assisted quantum compiling\t\t\n",
            "site-resolved imaging of beryllium ion crystals in a high-optical-access penning trap with inbore optomechanics\t\t\n",
            "when do composed maps become entanglement breaking?\t\t\n",
            "quantum random self-modifiable computation\t\t\n",
            "translationally invariant universal classical hamiltonians\t\t\n",
            "stable topological edge states in a non-hermitian four-band model\t\t\n",
            "generalized adiabatic theorem and strong-coupling limits\t\t\n",
            "discrete time quasi-crystals\t\t\n",
            "error-mitigated digital quantum simulation\t\t\n",
            "arbitrarily large violations of non-contextuality in single mode photon states with positive wigner function\t\t\n",
            "nonreciprocal control and cooling of phonon modes in an optomechanical system\t\t\n",
            "surface plasmon launching by polariton superradiance\t\t\n",
            "tensor-network approach to compute genuine multisite entanglement in infinite quantum spin chains\t\t\n",
            "quantum hydrodynamics for supersolid crystals and quasicrystals\t\t\n",
            "a quantum-inspired classical algorithm for recommendation systems\t\t\n",
            "quantum computation as gravity\t\t\n",
            "non-markovianity through quantum coherence in an all-optical setup\t\t\n",
            "efficient quantum algorithms for $ghz$ and $w$ states\t and implementation on the ibm quantum computer\t\n",
            "quantum thermometry\t\t\n",
            "time of arrival and localization of relativistic particles\t\t\n",
            "spectrally entangled biphoton state of cascade emissions from a doppler-broadened atomic ensemble\t\t\n",
            "topologically protected heat pumping from braiding majorana zero modes\t\t\n",
            "pairwise completely positive matrices and conjugate local diagonal unitary invariant quantum states\t\t\n",
            "rapid filling of the spin gap with temperature in the schwinger-boson mean-field theory of the antiferromagnetic heisenberg kagome model\t\t\n",
            "squeezed field path integral description of second sound in bose-einstein condensates\t\t\n",
            "quantum simulation of coherent hawking-unruh radiation\t\t\n",
            "numerical methods for the wigner equation with unbounded potential\t\t\n",
            "symmetry protected topological phases of electromagnetic lemmings\t\t\n",
            "the dynamics of difference\t\t\n",
            "quantum simulation of the non-fermi-liquid state of sachdev-ye-kitaev model\t\t\n",
            "three qubit randomized benchmarking\t\t\n",
            "experimental optical phase measurement approaching the exact heisenberg limit\t\t\n",
            "monitoring dispersive samples with single photons: the role of frequency correlations\t\t\n",
            "imperfect thermalizations allow for optimal thermodynamic processes\t\t\n",
            "quantum entanglement in de sitter space from stringy axion: an analysis using $\\alpha$ vacua\t\t\n",
            "golden codes: quantum ldpc codes built from regular tessellations of hyperbolic 4-manifolds\t\t\n",
            "quantum walks on graphs of the ordered hamming scheme and spin networks\t\t\n",
            "a refinement of the robertson-schr\\\"odinger uncertainty principle and a hirschman-shannon inequality for wigner distributions\t\t\n",
            "local hamiltonians for one-dimensional critical models\t\t\n",
            "quantum bose-fermi droplets\t\t\n",
            "family of bound entangled states on the boundary of peres set\t\t\n",
            "evaluation of two-photon polarization density matrix of polarization-entangled photon-pairs generated through biexciton resonant hyper-parametric scattering\t\t\n",
            "spin and motion dynamics with zigzag ion crystals in transverse magnetic field gradients\t\t\n",
            "universal random codes: capacity regions of the compound quantum multiple-access channel with one classical and one quantum sender\t\t\n",
            "18-qubit entanglement with photon's three degrees of freedom\t\t\n",
            "a new time-series model based on quantum walk\t\t\n",
            "border rank is not multiplicative under the tensor product\t\t\n",
            "two-dimensional dirac fermion in presence of an asymmetric vector potential\t\t\n",
            "tradeoff relations between accessible information\t informational power\t and purity\n",
            "a compressed classical description of quantum states\t\t\n",
            "solvable two dimensional time-dependent non-hermitian quantum systems with infinite dimensional hilbert space in the broken pt-regime\t\t\n",
            "quantum-classical correspondence in integrable systems\t\t\n",
            "multiplexed quantum random number generation\t\t\n",
            "feeding the multitude: a polynomial-time algorithm to improve sampling\t\t\n",
            "a generative modeling approach for benchmarking and training shallow quantum circuits\n",
            "\n",
            "[810 | 1890.18] loss=0.01 avg=0.14\n",
            "[820 | 1912.91] loss=0.02 avg=0.14\n",
            "[830 | 1935.64] loss=0.01 avg=0.14\n",
            "[840 | 1958.39] loss=0.01 avg=0.13\n",
            "[850 | 1981.16] loss=0.01 avg=0.13\n",
            "[860 | 2003.94] loss=0.01 avg=0.13\n",
            "[870 | 2026.67] loss=0.01 avg=0.13\n",
            "[880 | 2049.41] loss=0.01 avg=0.12\n",
            "[890 | 2072.14] loss=0.01 avg=0.12\n",
            "[900 | 2094.85] loss=0.01 avg=0.12\n",
            "[910 | 2117.58] loss=0.01 avg=0.12\n",
            "[920 | 2140.34] loss=0.02 avg=0.12\n",
            "[930 | 2163.05] loss=0.01 avg=0.12\n",
            "[940 | 2185.78] loss=0.01 avg=0.11\n",
            "[950 | 2208.52] loss=0.01 avg=0.11\n",
            "[960 | 2231.27] loss=0.01 avg=0.11\n",
            "[970 | 2254.00] loss=0.01 avg=0.11\n",
            "[980 | 2276.75] loss=0.01 avg=0.11\n",
            "[990 | 2299.50] loss=0.01 avg=0.11\n",
            "[1000 | 2322.25] loss=0.01 avg=0.10\n",
            "Saving checkpoint/run1/model-1000\n",
            "WARNING:tensorflow:From /tensorflow-1.15.2/python3.7/tensorflow_core/python/training/saver.py:963: remove_checkpoint (from tensorflow.python.training.checkpoint_management) is deprecated and will be removed in a future version.\n",
            "Instructions for updating:\n",
            "Use standard file APIs to delete files with this prefix.\n"
          ],
          "name": "stdout"
        }
      ]
    },
    {
      "cell_type": "markdown",
      "metadata": {
        "id": "IXSuTNERaw6K"
      },
      "source": [
        "After the model is trained, you can copy the checkpoint folder to your own Google Drive.\n",
        "\n",
        "If you want to download it to your personal computer, it's strongly recommended you copy it there first, then download from Google Drive. The checkpoint folder is copied as a `.rar` compressed file; you can download it and uncompress it locally."
      ]
    },
    {
      "cell_type": "code",
      "metadata": {
        "id": "VHdTL8NDbAh3"
      },
      "source": [
        "gpt2.copy_checkpoint_to_gdrive(run_name='run1')"
      ],
      "execution_count": 10,
      "outputs": []
    },
    {
      "cell_type": "markdown",
      "metadata": {
        "id": "qQJgV_b4bmzd"
      },
      "source": [
        "You're done! Feel free to go to the **Generate Text From The Trained Model** section to generate text based on your retrained model."
      ]
    },
    {
      "cell_type": "markdown",
      "metadata": {
        "id": "pel-uBULXO2L"
      },
      "source": [
        "## Load a Trained Model Checkpoint\n",
        "\n",
        "Running the next cell will copy the `.rar` checkpoint file from your Google Drive into the Colaboratory VM."
      ]
    },
    {
      "cell_type": "code",
      "metadata": {
        "id": "DCcx5u7sbPTD"
      },
      "source": [
        "gpt2.copy_checkpoint_from_gdrive(run_name='run1')"
      ],
      "execution_count": 11,
      "outputs": []
    },
    {
      "cell_type": "markdown",
      "metadata": {
        "id": "RTa6zf3e_9gV"
      },
      "source": [
        "The next cell will allow you to load the retrained model checkpoint + metadata necessary to generate text.\n",
        "\n",
        "**IMPORTANT NOTE:** If you want to rerun this cell, **restart the VM first** (Runtime -> Restart Runtime). You will need to rerun imports but not recopy files."
      ]
    },
    {
      "cell_type": "code",
      "metadata": {
        "id": "-fxL77nvAMAX",
        "colab": {
          "base_uri": "https://localhost:8080/",
          "height": 561
        },
        "outputId": "d3120690-b37d-4618-f788-32b09fe47574"
      },
      "source": [
        "sess = gpt2.start_tf_sess()\n",
        "gpt2.load_gpt2(sess, run_name='run1')"
      ],
      "execution_count": 12,
      "outputs": [
        {
          "output_type": "error",
          "ename": "ValueError",
          "evalue": "ignored",
          "traceback": [
            "\u001b[0;31m---------------------------------------------------------------------------\u001b[0m",
            "\u001b[0;31mValueError\u001b[0m                                Traceback (most recent call last)",
            "\u001b[0;32m<ipython-input-12-42fe8a91f36d>\u001b[0m in \u001b[0;36m<module>\u001b[0;34m()\u001b[0m\n\u001b[1;32m      1\u001b[0m \u001b[0msess\u001b[0m \u001b[0;34m=\u001b[0m \u001b[0mgpt2\u001b[0m\u001b[0;34m.\u001b[0m\u001b[0mstart_tf_sess\u001b[0m\u001b[0;34m(\u001b[0m\u001b[0;34m)\u001b[0m\u001b[0;34m\u001b[0m\u001b[0;34m\u001b[0m\u001b[0m\n\u001b[0;32m----> 2\u001b[0;31m \u001b[0mgpt2\u001b[0m\u001b[0;34m.\u001b[0m\u001b[0mload_gpt2\u001b[0m\u001b[0;34m(\u001b[0m\u001b[0msess\u001b[0m\u001b[0;34m,\u001b[0m \u001b[0mrun_name\u001b[0m\u001b[0;34m=\u001b[0m\u001b[0;34m'run1'\u001b[0m\u001b[0;34m)\u001b[0m\u001b[0;34m\u001b[0m\u001b[0;34m\u001b[0m\u001b[0m\n\u001b[0m",
            "\u001b[0;32m/usr/local/lib/python3.7/dist-packages/gpt_2_simple/gpt_2.py\u001b[0m in \u001b[0;36mload_gpt2\u001b[0;34m(sess, checkpoint, run_name, checkpoint_dir, model_name, model_dir, multi_gpu)\u001b[0m\n\u001b[1;32m    388\u001b[0m         \u001b[0mgpus\u001b[0m \u001b[0;34m=\u001b[0m \u001b[0mget_available_gpus\u001b[0m\u001b[0;34m(\u001b[0m\u001b[0;34m)\u001b[0m\u001b[0;34m\u001b[0m\u001b[0;34m\u001b[0m\u001b[0m\n\u001b[1;32m    389\u001b[0m \u001b[0;34m\u001b[0m\u001b[0m\n\u001b[0;32m--> 390\u001b[0;31m     \u001b[0moutput\u001b[0m \u001b[0;34m=\u001b[0m \u001b[0mmodel\u001b[0m\u001b[0;34m.\u001b[0m\u001b[0mmodel\u001b[0m\u001b[0;34m(\u001b[0m\u001b[0mhparams\u001b[0m\u001b[0;34m=\u001b[0m\u001b[0mhparams\u001b[0m\u001b[0;34m,\u001b[0m \u001b[0mX\u001b[0m\u001b[0;34m=\u001b[0m\u001b[0mcontext\u001b[0m\u001b[0;34m,\u001b[0m \u001b[0mgpus\u001b[0m\u001b[0;34m=\u001b[0m\u001b[0mgpus\u001b[0m\u001b[0;34m)\u001b[0m\u001b[0;34m\u001b[0m\u001b[0;34m\u001b[0m\u001b[0m\n\u001b[0m\u001b[1;32m    391\u001b[0m \u001b[0;34m\u001b[0m\u001b[0m\n\u001b[1;32m    392\u001b[0m     \u001b[0;32mif\u001b[0m \u001b[0mcheckpoint\u001b[0m\u001b[0;34m==\u001b[0m\u001b[0;34m'latest'\u001b[0m\u001b[0;34m:\u001b[0m\u001b[0;34m\u001b[0m\u001b[0;34m\u001b[0m\u001b[0m\n",
            "\u001b[0;32m/usr/local/lib/python3.7/dist-packages/gpt_2_simple/src/model.py\u001b[0m in \u001b[0;36mmodel\u001b[0;34m(hparams, X, past, scope, gpus, reuse)\u001b[0m\n\u001b[1;32m    181\u001b[0m \u001b[0;34m\u001b[0m\u001b[0m\n\u001b[1;32m    182\u001b[0m         wpe = tf.compat.v1.get_variable('wpe', [hparams.n_ctx, hparams.n_embd],\n\u001b[0;32m--> 183\u001b[0;31m                              initializer=tf.compat.v1.random_normal_initializer(stddev=0.01))\n\u001b[0m\u001b[1;32m    184\u001b[0m         wte = tf.compat.v1.get_variable('wte', [hparams.n_vocab, hparams.n_embd],\n\u001b[1;32m    185\u001b[0m                              initializer=tf.compat.v1.random_normal_initializer(stddev=0.02))\n",
            "\u001b[0;32m/tensorflow-1.15.2/python3.7/tensorflow_core/python/ops/variable_scope.py\u001b[0m in \u001b[0;36mget_variable\u001b[0;34m(name, shape, dtype, initializer, regularizer, trainable, collections, caching_device, partitioner, validate_shape, use_resource, custom_getter, constraint, synchronization, aggregation)\u001b[0m\n\u001b[1;32m   1498\u001b[0m       \u001b[0mconstraint\u001b[0m\u001b[0;34m=\u001b[0m\u001b[0mconstraint\u001b[0m\u001b[0;34m,\u001b[0m\u001b[0;34m\u001b[0m\u001b[0;34m\u001b[0m\u001b[0m\n\u001b[1;32m   1499\u001b[0m       \u001b[0msynchronization\u001b[0m\u001b[0;34m=\u001b[0m\u001b[0msynchronization\u001b[0m\u001b[0;34m,\u001b[0m\u001b[0;34m\u001b[0m\u001b[0;34m\u001b[0m\u001b[0m\n\u001b[0;32m-> 1500\u001b[0;31m       aggregation=aggregation)\n\u001b[0m\u001b[1;32m   1501\u001b[0m \u001b[0;34m\u001b[0m\u001b[0m\n\u001b[1;32m   1502\u001b[0m \u001b[0;34m\u001b[0m\u001b[0m\n",
            "\u001b[0;32m/tensorflow-1.15.2/python3.7/tensorflow_core/python/ops/variable_scope.py\u001b[0m in \u001b[0;36mget_variable\u001b[0;34m(self, var_store, name, shape, dtype, initializer, regularizer, reuse, trainable, collections, caching_device, partitioner, validate_shape, use_resource, custom_getter, constraint, synchronization, aggregation)\u001b[0m\n\u001b[1;32m   1241\u001b[0m           \u001b[0mconstraint\u001b[0m\u001b[0;34m=\u001b[0m\u001b[0mconstraint\u001b[0m\u001b[0;34m,\u001b[0m\u001b[0;34m\u001b[0m\u001b[0;34m\u001b[0m\u001b[0m\n\u001b[1;32m   1242\u001b[0m           \u001b[0msynchronization\u001b[0m\u001b[0;34m=\u001b[0m\u001b[0msynchronization\u001b[0m\u001b[0;34m,\u001b[0m\u001b[0;34m\u001b[0m\u001b[0;34m\u001b[0m\u001b[0m\n\u001b[0;32m-> 1243\u001b[0;31m           aggregation=aggregation)\n\u001b[0m\u001b[1;32m   1244\u001b[0m \u001b[0;34m\u001b[0m\u001b[0m\n\u001b[1;32m   1245\u001b[0m   def _get_partitioned_variable(self,\n",
            "\u001b[0;32m/tensorflow-1.15.2/python3.7/tensorflow_core/python/ops/variable_scope.py\u001b[0m in \u001b[0;36mget_variable\u001b[0;34m(self, name, shape, dtype, initializer, regularizer, reuse, trainable, collections, caching_device, partitioner, validate_shape, use_resource, custom_getter, constraint, synchronization, aggregation)\u001b[0m\n\u001b[1;32m    565\u001b[0m           \u001b[0mconstraint\u001b[0m\u001b[0;34m=\u001b[0m\u001b[0mconstraint\u001b[0m\u001b[0;34m,\u001b[0m\u001b[0;34m\u001b[0m\u001b[0;34m\u001b[0m\u001b[0m\n\u001b[1;32m    566\u001b[0m           \u001b[0msynchronization\u001b[0m\u001b[0;34m=\u001b[0m\u001b[0msynchronization\u001b[0m\u001b[0;34m,\u001b[0m\u001b[0;34m\u001b[0m\u001b[0;34m\u001b[0m\u001b[0m\n\u001b[0;32m--> 567\u001b[0;31m           aggregation=aggregation)\n\u001b[0m\u001b[1;32m    568\u001b[0m \u001b[0;34m\u001b[0m\u001b[0m\n\u001b[1;32m    569\u001b[0m   def _get_partitioned_variable(self,\n",
            "\u001b[0;32m/tensorflow-1.15.2/python3.7/tensorflow_core/python/ops/variable_scope.py\u001b[0m in \u001b[0;36m_true_getter\u001b[0;34m(name, shape, dtype, initializer, regularizer, reuse, trainable, collections, caching_device, partitioner, validate_shape, use_resource, constraint, synchronization, aggregation)\u001b[0m\n\u001b[1;32m    517\u001b[0m           \u001b[0mconstraint\u001b[0m\u001b[0;34m=\u001b[0m\u001b[0mconstraint\u001b[0m\u001b[0;34m,\u001b[0m\u001b[0;34m\u001b[0m\u001b[0;34m\u001b[0m\u001b[0m\n\u001b[1;32m    518\u001b[0m           \u001b[0msynchronization\u001b[0m\u001b[0;34m=\u001b[0m\u001b[0msynchronization\u001b[0m\u001b[0;34m,\u001b[0m\u001b[0;34m\u001b[0m\u001b[0;34m\u001b[0m\u001b[0m\n\u001b[0;32m--> 519\u001b[0;31m           aggregation=aggregation)\n\u001b[0m\u001b[1;32m    520\u001b[0m \u001b[0;34m\u001b[0m\u001b[0m\n\u001b[1;32m    521\u001b[0m     synchronization, aggregation, trainable = (\n",
            "\u001b[0;32m/tensorflow-1.15.2/python3.7/tensorflow_core/python/ops/variable_scope.py\u001b[0m in \u001b[0;36m_get_single_variable\u001b[0;34m(self, name, shape, dtype, initializer, regularizer, partition_info, reuse, trainable, collections, caching_device, validate_shape, use_resource, constraint, synchronization, aggregation)\u001b[0m\n\u001b[1;32m    866\u001b[0m         \u001b[0mtb\u001b[0m \u001b[0;34m=\u001b[0m \u001b[0;34m[\u001b[0m\u001b[0mx\u001b[0m \u001b[0;32mfor\u001b[0m \u001b[0mx\u001b[0m \u001b[0;32min\u001b[0m \u001b[0mtb\u001b[0m \u001b[0;32mif\u001b[0m \u001b[0;34m\"tensorflow/python\"\u001b[0m \u001b[0;32mnot\u001b[0m \u001b[0;32min\u001b[0m \u001b[0mx\u001b[0m\u001b[0;34m[\u001b[0m\u001b[0;36m0\u001b[0m\u001b[0;34m]\u001b[0m\u001b[0;34m]\u001b[0m\u001b[0;34m[\u001b[0m\u001b[0;34m:\u001b[0m\u001b[0;36m5\u001b[0m\u001b[0;34m]\u001b[0m\u001b[0;34m\u001b[0m\u001b[0;34m\u001b[0m\u001b[0m\n\u001b[1;32m    867\u001b[0m         raise ValueError(\"%s Originally defined at:\\n\\n%s\" %\n\u001b[0;32m--> 868\u001b[0;31m                          (err_msg, \"\".join(traceback.format_list(tb))))\n\u001b[0m\u001b[1;32m    869\u001b[0m       \u001b[0mfound_var\u001b[0m \u001b[0;34m=\u001b[0m \u001b[0mself\u001b[0m\u001b[0;34m.\u001b[0m\u001b[0m_vars\u001b[0m\u001b[0;34m[\u001b[0m\u001b[0mname\u001b[0m\u001b[0;34m]\u001b[0m\u001b[0;34m\u001b[0m\u001b[0;34m\u001b[0m\u001b[0m\n\u001b[1;32m    870\u001b[0m       \u001b[0;32mif\u001b[0m \u001b[0;32mnot\u001b[0m \u001b[0mshape\u001b[0m\u001b[0;34m.\u001b[0m\u001b[0mis_compatible_with\u001b[0m\u001b[0;34m(\u001b[0m\u001b[0mfound_var\u001b[0m\u001b[0;34m.\u001b[0m\u001b[0mget_shape\u001b[0m\u001b[0;34m(\u001b[0m\u001b[0;34m)\u001b[0m\u001b[0;34m)\u001b[0m\u001b[0;34m:\u001b[0m\u001b[0;34m\u001b[0m\u001b[0;34m\u001b[0m\u001b[0m\n",
            "\u001b[0;31mValueError\u001b[0m: Variable model/wpe already exists, disallowed. Did you mean to set reuse=True or reuse=tf.AUTO_REUSE in VarScope? Originally defined at:\n\n  File \"/tensorflow-1.15.2/python3.7/tensorflow_core/python/framework/ops.py\", line 1748, in __init__\n    self._traceback = tf_stack.extract_stack()\n  File \"/tensorflow-1.15.2/python3.7/tensorflow_core/python/framework/ops.py\", line 3426, in _create_op_internal\n    op_def=op_def)\n  File \"/tensorflow-1.15.2/python3.7/tensorflow_core/python/framework/ops.py\", line 3357, in create_op\n    attrs, op_def, compute_device)\n  File \"/tensorflow-1.15.2/python3.7/tensorflow_core/python/util/deprecation.py\", line 507, in new_func\n    return func(*args, **kwargs)\n  File \"/tensorflow-1.15.2/python3.7/tensorflow_core/python/framework/op_def_library.py\", line 794, in _apply_op_helper\n    op_def=op_def)\n"
          ]
        }
      ]
    },
    {
      "cell_type": "markdown",
      "metadata": {
        "id": "ClJwpF_ACONp"
      },
      "source": [
        "## Generate Text From The Trained Model\n",
        "\n",
        "After you've trained the model or loaded a retrained model from checkpoint, you can now generate text. `generate` generates a single text from the loaded model."
      ]
    },
    {
      "cell_type": "code",
      "metadata": {
        "id": "4RNY6RBI9LmL",
        "colab": {
          "base_uri": "https://localhost:8080/"
        },
        "outputId": "8ac35d8e-8f5a-478d-ffdd-c6669337e486"
      },
      "source": [
        "gpt2.generate(sess, run_name='run1')"
      ],
      "execution_count": 10,
      "outputs": [
        {
          "output_type": "stream",
          "text": [
            "static non-linear schr\\\"{o}dinger equations for the achiral-chiral transitions of polar chiral molecules\t\t\n",
            "resonance inversion in a superconducting cavity coupled to artificial atoms and a microwave background\t\t\n",
            "scheme to equilibrate the quantized hall response of topological systems from coherent dynamics\t\t\n",
            "magnetic-field-learning using a single electronic spin in diamond with one-photon-readout at room temperature\t\t\n",
            "localization in fractonic random circuits\t\t\n",
            "dissipative discrete time crystals\t\t\n",
            "tensor chain and constraints in tensor networks\t\t\n",
            "strong quadrature squeezing and quantum amplification in a coupled bose-einstein condensate- optomechanical cavity via coherent modulation\t\t\n",
            "beating the channel capacity limit for superdense coding with entangled ququarts\t\t\n",
            "cavity casimir-polder forces and their effects in ground state chemical reactivity\t\t\n",
            "detection of out-of-time-order correlators and information scrambling in cold atoms: ladder-xx model\t\t\n",
            "active engineering of four-wave mixing spectral entanglement in hollow-core fibers\t\t\n",
            "the fracton gauge principle\t\t\n",
            "solving np-hard problems with bistable polaritonic networks\t\t\n",
            "construction of noisy bound entangled states and the range criterion\t\t\n",
            "practical and reliable error bars for quantum process tomography\t\t\n",
            "observation of the crossover from photon ordering to delocalization in tunably coupled resonators\t\t\n",
            "continuous tensor network states for quantum fields\t\t\n",
            "observation of multiphoton frequency conversion in superconducting circuits\t\t\n",
            "controlling the entropic uncertainty lower bound in two-qubit systems under the decoherence\t\t\n",
            "quantum signatures in quadratic optomechanics\t\t\n",
            "a flow equation approach to periodically driven quantum systems\t\t\n",
            "atomtronics with a spin: statistics of spin transport and non-equilibrium orthogonality catastrophe in cold quantum gases\t\t\n",
            "approximate stabilizer rank and improved weak simulation of clifford-dominated circuits for qudits\t\t\n",
            "swapping space for time: an alternative to time-domain interferometry\t\t\n",
            "learning and inference on generative adversarial quantum circuits\t\t\n",
            "weak invariants\t temporally-local equilibria\t and isoenergetic processes described by the lindblad equation\n",
            "quantifying quantum reference frames in composed systems: local\t global and mutual asymmetries\t\n",
            "investigating nonclassicality in nonlinear electronic spectroscopy\t\t\n",
            "measuring fermionic entanglement: entropy\t negativity\t and spin structure\n",
            "cross-sensor feedback stabilization of an emulated quantum spin gyroscope\t\t\n",
            "quantum electromechanics of a hypersonic crystal\t\t\n",
            "a primary radiation standard based on quantum nonlinear optics\t\t\n",
            "asymptotic majorization of finite probability distributions\t\t\n",
            "implementing positive maps with multiple copies of an input state\t\t\n",
            "realizing quantum free-electron lasers: a critical analysis of experimental challenges and theoretical limits\t\t\n",
            "gravitational mass of composite systems\t\t\n",
            "a classically impossible task done by using quantum resources\t\t\n",
            "quantization of quasinormal modes for open cavities and plasmonic cavity-qed\t\t\n",
            "observation of emergent momentum-time skyrmions in parity-time-symmetric non-unitary quench dynamics\t\t\n",
            "route to chaos in a coupled microresonator system with gain and loss\t\t\n",
            "machine learning non-local correlations\t\t\n",
            "quantum metrology out of equilibrium\t\t\n",
            "spin-orbit interactions for singlet-triplet qubits in silicon\t\t\n",
            "quantum chaos\t thermalization and tunneling in an exactly solvable few body system\t\n",
            "detecting einstein-podolsky-rosen steering through entanglement detection\t\t\n",
            "pseudo topological insulators\t\t\n",
            "theory of resonant raman scattering: toward a comprehensive \\textit{ab initio} description\t\t\n",
            "photonic systems with two-dimensional landscapes of complex refractive index via time-dependent supersymmetry\t\t\n",
            "quantum holonomies and the heisenberg group\t\t\n",
            "detecting coherence via spectrum estimation\t\t\n",
            "creating anomalous floquet chern insulators with magnetic quantum walks\t\t\n",
            "the geometry of the einstein--podolsky--rosen correlations\t\t\n",
            "confidence polytopes in quantum state tomography\t\t\n",
            "fundamental limit on the efficiency of single-photon generation based on cavity quantum electrodynamics\t\t\n",
            "typical gaussian quantum information\t\t\n",
            "an algebraic approach to fqhe variational wave functions\t\t\n",
            "digitization of scalar fields for quantum computing\t\t\n",
            "quadrupole shift cancellation using dynamic decou\n"
          ],
          "name": "stdout"
        }
      ]
    },
    {
      "cell_type": "markdown",
      "metadata": {
        "id": "oF4-PqF0Fl7R"
      },
      "source": [
        "If you're creating an API based on your model and need to pass the generated text elsewhere, you can do `text = gpt2.generate(sess, return_as_list=True)[0]`\n",
        "\n",
        "You can also pass in a `prefix` to the generate function to force the text to start with a given character sequence and generate text from there (good if you add an indicator when the text starts).\n",
        "\n",
        "You can also generate multiple texts at a time by specifing `nsamples`. Unique to GPT-2, you can pass a `batch_size` to generate multiple samples in parallel, giving a massive speedup (in Colaboratory, set a maximum of 20 for `batch_size`).\n",
        "\n",
        "Other optional-but-helpful parameters for `gpt2.generate` and friends:\n",
        "\n",
        "*  **`length`**: Number of tokens to generate (default 1023, the maximum)\n",
        "* **`temperature`**: The higher the temperature, the crazier the text (default 0.7, recommended to keep between 0.7 and 1.0)\n",
        "* **`top_k`**: Limits the generated guesses to the top *k* guesses (default 0 which disables the behavior; if the generated output is super crazy, you may want to set `top_k=40`)\n",
        "* **`top_p`**: Nucleus sampling: limits the generated guesses to a cumulative probability. (gets good results on a dataset with `top_p=0.9`)\n",
        "* **`truncate`**: Truncates the input text until a given sequence, excluding that sequence (e.g. if `truncate='<|endoftext|>'`, the returned text will include everything before the first `<|endoftext|>`). It may be useful to combine this with a smaller `length` if the input texts are short.\n",
        "*  **`include_prefix`**: If using `truncate` and `include_prefix=False`, the specified `prefix` will not be included in the returned text."
      ]
    },
    {
      "cell_type": "code",
      "metadata": {
        "id": "8DKMc0fiej4N",
        "colab": {
          "base_uri": "https://localhost:8080/"
        },
        "outputId": "1e705a7e-7508-4f78-916f-c9318ee71b6d"
      },
      "source": [
        "gpt2.generate(sess,\n",
        "              length=250,\n",
        "              temperature=0.7,\n",
        "              prefix=\"quantum\",\n",
        "              nsamples=5,\n",
        "              batch_size=5\n",
        "              )"
      ],
      "execution_count": 11,
      "outputs": [
        {
          "output_type": "stream",
          "text": [
            "quantum techniques for stochastic mechanics\t\t\n",
            "quantum estimation of a two-phase spin rotation\t\t\n",
            "duality of entanglement norms\t\t\n",
            "noisy interactive quantum communication\t\t\n",
            "generalized quantum arthur-merlin games\t\t\n",
            "irreducible many-body correlations in topologically ordered systems\t\t\n",
            "composite fermions in medium: extending the lipkin model\t\t\n",
            "tensor network non-zero testing\t\t\n",
            "robust electron pairing in the integer quantum hall effect regime\t\t\n",
            "quantum annealing with antiferromagnetic transverse interactions for the hopfield model\t\t\n",
            "a survey of the esr model for an objective reinterpretation of quantum mechanics\t\t\n",
            "quantum optical non-linearities induced by rydberg-rydberg interactions: a perturbative approach\t\t\n",
            "photoelectrical detection of electron spin resonance of nitrogen-vacancy centres in diamond\t\t\n",
            "storage and retrieval of vector beams of light in a multiple-degree-of-freedom quantum memory\t\t\n",
            "single-photon nonlinear optics with a quantum dot in a waveguide\t\t\n",
            "superdense teleportation using hyperentangled photons\t\t\n",
            "qudit hom\n",
            "====================\n",
            "quantum state merging for arbitrarily small-dimensional systems\t\t\n",
            "quantum process tomography of a high-dimensional quantum communication channel\t\t\n",
            "reconstructing entanglement hamiltonian via entanglement eigenstates\t\t\n",
            "quantum thermodynamics with multiple conserved quantities\t\t\n",
            "nonlinear optics of photonic hyper-crystals: optical limiting and hyper-computing\t\t\n",
            "characterizing irreversibility in open quantum systems\t\t\n",
            "uhlmann number in translational invariant systems\t\t\n",
            "quantum current in dissipative systems\t\t\n",
            "subsystem symmetries\t quantum cellular automata\t and computational phases of quantum matter\n",
            "the connection between bohmian mechanics and many-particle quantum hydrodynamics\t\t\n",
            "quantum point spread function for imaging trapped few-body systems with a quantum gas microscope\t\t\n",
            "an epistemic interpretation of quantum probability via contextuality\t\t\n",
            "measurement compatibility in bell nonlocality tests\t\t\n",
            "observation of dynamical quantum phase transition by a superconducting qubit simulation\t\t\n",
            "theoretical framework for higher-order quantum theory\t\t\n",
            "composition rules for quantum processes: a no-go theorem\t\t\n",
            "topological time crystals\n",
            "====================\n",
            "quantum-assisted quantum compiling\t\t\n",
            "site-resolved imaging of beryllium ion crystals in a high-optical-access penning trap with inbore optomechanics\t\t\n",
            "when do composed maps become entanglement breaking?\t\t\n",
            "quantum random self-modifiable computation\t\t\n",
            "translationally invariant universal classical hamiltonians\t\t\n",
            "stable topological edge states in a non-hermitian four-band model\t\t\n",
            "generalized adiabatic theorem and strong-coupling limits\t\t\n",
            "discrete time quasi-crystals\t\t\n",
            "error-mitigated digital quantum simulation\t\t\n",
            "arbitrarily large violations of non-contextuality in single mode photon states with positive wigner function\t\t\n",
            "nonreciprocal control and cooling of phonon modes in an optomechanical system\t\t\n",
            "surface plasmon launching by polariton superradiance\t\t\n",
            "tensor-network approach to compute genuine multisite entanglement in infinite quantum spin chains\t\t\n",
            "quantum hydrodynamics for supersolid crystals and quasicrystals\t\t\n",
            "a quantum-inspired classical algorithm for recommendation systems\t\t\n",
            "quantum computation as gravity\t\n",
            "====================\n",
            "quantum cryptography beyond quantum key distribution\t\t\n",
            "quantum advice enhances social optimality in three-party conflicting interest games\t\t\n",
            "exponential decay of matrix $\\phi$-entropies on markov semigroups with applications to dynamical evolutions of quantum ensembles\t\t\n",
            "quantum assisted gaussian process regression\t\t\n",
            "rydberg-induced optical nonlinearities from a cold atomic ensemble trapped inside a cavity\t\t\n",
            "achievability of quantum regime in optomechanics of electromagnetically levitated nanoparticles: inclusion of gradient force fluctuations\t\t\n",
            "a computable branching random walk for the many-body wigner quantum dynamics\t\t\n",
            "on the kolmogorov--wiener--masani spectrum of a multi-mode weakly stationary quantum process\t\t\n",
            "majorana edge modes with gain and loss\t\t\n",
            "langevin equation for a dissipative macroscopic quantum system: bohmian theory versus quantum mechanics\t\t\n",
            "entanglement enabled intensity interferometry of different wavelengths of light\t\t\n",
            "a suggested answer to wallstrom's criticism: zitterbewegung stochastic mechanics ii\t\t\n",
            "discrete parametric oscillation and nondiffracting\n",
            "====================\n",
            "quantum simulation of the non-fermi-liquid state of sachdev-ye-kitaev model\t\t\n",
            "three qubit randomized benchmarking\t\t\n",
            "experimental optical phase measurement approaching the exact heisenberg limit\t\t\n",
            "monitoring dispersive samples with single photons: the role of frequency correlations\t\t\n",
            "imperfect thermalizations allow for optimal thermodynamic processes\t\t\n",
            "quantum entanglement in de sitter space from stringy axion: an analysis using $\\alpha$ vacua\t\t\n",
            "golden codes: quantum ldpc codes built from regular tessellations of hyperbolic 4-manifolds\t\t\n",
            "quantum walks on graphs of the ordered hamming scheme and spin networks\t\t\n",
            "a refinement of the robertson-schr\\\"odinger uncertainty principle and a hirschman-shannon inequality for wigner distributions\t\t\n",
            "local hamiltonians for one-dimensional critical models\t\t\n",
            "quantum bose-fermi droplets\t\t\n",
            "family of bound entangled states on the boundary of peres set\t\t\n",
            "evaluation of two-photon polarization density matrix of polarization-entangled photon-pairs generated through biexciton resonant\n",
            "====================\n"
          ],
          "name": "stdout"
        }
      ]
    },
    {
      "cell_type": "markdown",
      "metadata": {
        "id": "zjjEN2Tafhl2"
      },
      "source": [
        "For bulk generation, you can generate a large amount of text to a file and sort out the samples locally on your computer. The next cell will generate a generated text file with a unique timestamp.\n",
        "\n",
        "You can rerun the cells as many times as you want for even more generated texts!"
      ]
    },
    {
      "cell_type": "code",
      "metadata": {
        "id": "Fa6p6arifSL0"
      },
      "source": [
        "gen_file = 'gpt2_gentext_{:%Y%m%d_%H%M%S}.txt'.format(datetime.utcnow())\n",
        "\n",
        "gpt2.generate_to_file(sess,\n",
        "                      destination_path=gen_file,\n",
        "                      length=500,\n",
        "                      temperature=0.7,\n",
        "                      nsamples=100,\n",
        "                      batch_size=20\n",
        "                      )"
      ],
      "execution_count": 12,
      "outputs": []
    },
    {
      "cell_type": "code",
      "metadata": {
        "id": "0-LRex8lfv1g"
      },
      "source": [
        "# may have to run twice to get file to download\n",
        "files.download(gen_file)"
      ],
      "execution_count": null,
      "outputs": []
    },
    {
      "cell_type": "markdown",
      "metadata": {
        "id": "QQAN3M6RT7Kj"
      },
      "source": [
        "## Generate Text From The Pretrained Model\n",
        "\n",
        "If you want to generate text from the pretrained model, not a finetuned model, pass `model_name` to `gpt2.load_gpt2()` and `gpt2.generate()`.\n",
        "\n",
        "This is currently the only way to generate text from the 774M or 1558M models with this notebook."
      ]
    },
    {
      "cell_type": "code",
      "metadata": {
        "id": "hsUd_jHgUZnD",
        "colab": {
          "base_uri": "https://localhost:8080/"
        },
        "outputId": "96ea254b-a965-4ec0-981d-86bd5c0c67c8"
      },
      "source": [
        "model_name = \"774M\"\n",
        "\n",
        "gpt2.download_gpt2(model_name=model_name)"
      ],
      "execution_count": 8,
      "outputs": [
        {
          "output_type": "stream",
          "text": [
            "Fetching checkpoint: 1.05Mit [00:00, 494Mit/s]                                                      \n",
            "Fetching encoder.json: 1.05Mit [00:00, 2.76Mit/s]\n",
            "Fetching hparams.json: 1.05Mit [00:00, 304Mit/s]                                                    \n",
            "Fetching model.ckpt.data-00000-of-00001: 3.10Git [02:24, 21.5Mit/s]\n",
            "Fetching model.ckpt.index: 1.05Mit [00:00, 368Mit/s]                                                \n",
            "Fetching model.ckpt.meta: 2.10Mit [00:00, 5.67Mit/s]                                                \n",
            "Fetching vocab.bpe: 1.05Mit [00:00, 4.14Mit/s]\n"
          ],
          "name": "stderr"
        }
      ]
    },
    {
      "cell_type": "code",
      "metadata": {
        "id": "BAe4NpKNUj2C",
        "colab": {
          "base_uri": "https://localhost:8080/",
          "height": 578
        },
        "outputId": "437addf5-8190-4488-a572-0002fa6ee3e8"
      },
      "source": [
        "sess = gpt2.start_tf_sess()\n",
        "\n",
        "gpt2.load_gpt2(sess, model_name=model_name)"
      ],
      "execution_count": 9,
      "outputs": [
        {
          "output_type": "error",
          "ename": "ValueError",
          "evalue": "ignored",
          "traceback": [
            "\u001b[0;31m---------------------------------------------------------------------------\u001b[0m",
            "\u001b[0;31mValueError\u001b[0m                                Traceback (most recent call last)",
            "\u001b[0;32m<ipython-input-9-e8a3f5c6cb77>\u001b[0m in \u001b[0;36m<module>\u001b[0;34m()\u001b[0m\n\u001b[1;32m      1\u001b[0m \u001b[0msess\u001b[0m \u001b[0;34m=\u001b[0m \u001b[0mgpt2\u001b[0m\u001b[0;34m.\u001b[0m\u001b[0mstart_tf_sess\u001b[0m\u001b[0;34m(\u001b[0m\u001b[0;34m)\u001b[0m\u001b[0;34m\u001b[0m\u001b[0;34m\u001b[0m\u001b[0m\n\u001b[1;32m      2\u001b[0m \u001b[0;34m\u001b[0m\u001b[0m\n\u001b[0;32m----> 3\u001b[0;31m \u001b[0mgpt2\u001b[0m\u001b[0;34m.\u001b[0m\u001b[0mload_gpt2\u001b[0m\u001b[0;34m(\u001b[0m\u001b[0msess\u001b[0m\u001b[0;34m,\u001b[0m \u001b[0mmodel_name\u001b[0m\u001b[0;34m=\u001b[0m\u001b[0mmodel_name\u001b[0m\u001b[0;34m)\u001b[0m\u001b[0;34m\u001b[0m\u001b[0;34m\u001b[0m\u001b[0m\n\u001b[0m",
            "\u001b[0;32m/usr/local/lib/python3.7/dist-packages/gpt_2_simple/gpt_2.py\u001b[0m in \u001b[0;36mload_gpt2\u001b[0;34m(sess, checkpoint, run_name, checkpoint_dir, model_name, model_dir, multi_gpu)\u001b[0m\n\u001b[1;32m    388\u001b[0m         \u001b[0mgpus\u001b[0m \u001b[0;34m=\u001b[0m \u001b[0mget_available_gpus\u001b[0m\u001b[0;34m(\u001b[0m\u001b[0;34m)\u001b[0m\u001b[0;34m\u001b[0m\u001b[0;34m\u001b[0m\u001b[0m\n\u001b[1;32m    389\u001b[0m \u001b[0;34m\u001b[0m\u001b[0m\n\u001b[0;32m--> 390\u001b[0;31m     \u001b[0moutput\u001b[0m \u001b[0;34m=\u001b[0m \u001b[0mmodel\u001b[0m\u001b[0;34m.\u001b[0m\u001b[0mmodel\u001b[0m\u001b[0;34m(\u001b[0m\u001b[0mhparams\u001b[0m\u001b[0;34m=\u001b[0m\u001b[0mhparams\u001b[0m\u001b[0;34m,\u001b[0m \u001b[0mX\u001b[0m\u001b[0;34m=\u001b[0m\u001b[0mcontext\u001b[0m\u001b[0;34m,\u001b[0m \u001b[0mgpus\u001b[0m\u001b[0;34m=\u001b[0m\u001b[0mgpus\u001b[0m\u001b[0;34m)\u001b[0m\u001b[0;34m\u001b[0m\u001b[0;34m\u001b[0m\u001b[0m\n\u001b[0m\u001b[1;32m    391\u001b[0m \u001b[0;34m\u001b[0m\u001b[0m\n\u001b[1;32m    392\u001b[0m     \u001b[0;32mif\u001b[0m \u001b[0mcheckpoint\u001b[0m\u001b[0;34m==\u001b[0m\u001b[0;34m'latest'\u001b[0m\u001b[0;34m:\u001b[0m\u001b[0;34m\u001b[0m\u001b[0;34m\u001b[0m\u001b[0m\n",
            "\u001b[0;32m/usr/local/lib/python3.7/dist-packages/gpt_2_simple/src/model.py\u001b[0m in \u001b[0;36mmodel\u001b[0;34m(hparams, X, past, scope, gpus, reuse)\u001b[0m\n\u001b[1;32m    181\u001b[0m \u001b[0;34m\u001b[0m\u001b[0m\n\u001b[1;32m    182\u001b[0m         wpe = tf.compat.v1.get_variable('wpe', [hparams.n_ctx, hparams.n_embd],\n\u001b[0;32m--> 183\u001b[0;31m                              initializer=tf.compat.v1.random_normal_initializer(stddev=0.01))\n\u001b[0m\u001b[1;32m    184\u001b[0m         wte = tf.compat.v1.get_variable('wte', [hparams.n_vocab, hparams.n_embd],\n\u001b[1;32m    185\u001b[0m                              initializer=tf.compat.v1.random_normal_initializer(stddev=0.02))\n",
            "\u001b[0;32m/tensorflow-1.15.2/python3.7/tensorflow_core/python/ops/variable_scope.py\u001b[0m in \u001b[0;36mget_variable\u001b[0;34m(name, shape, dtype, initializer, regularizer, trainable, collections, caching_device, partitioner, validate_shape, use_resource, custom_getter, constraint, synchronization, aggregation)\u001b[0m\n\u001b[1;32m   1498\u001b[0m       \u001b[0mconstraint\u001b[0m\u001b[0;34m=\u001b[0m\u001b[0mconstraint\u001b[0m\u001b[0;34m,\u001b[0m\u001b[0;34m\u001b[0m\u001b[0;34m\u001b[0m\u001b[0m\n\u001b[1;32m   1499\u001b[0m       \u001b[0msynchronization\u001b[0m\u001b[0;34m=\u001b[0m\u001b[0msynchronization\u001b[0m\u001b[0;34m,\u001b[0m\u001b[0;34m\u001b[0m\u001b[0;34m\u001b[0m\u001b[0m\n\u001b[0;32m-> 1500\u001b[0;31m       aggregation=aggregation)\n\u001b[0m\u001b[1;32m   1501\u001b[0m \u001b[0;34m\u001b[0m\u001b[0m\n\u001b[1;32m   1502\u001b[0m \u001b[0;34m\u001b[0m\u001b[0m\n",
            "\u001b[0;32m/tensorflow-1.15.2/python3.7/tensorflow_core/python/ops/variable_scope.py\u001b[0m in \u001b[0;36mget_variable\u001b[0;34m(self, var_store, name, shape, dtype, initializer, regularizer, reuse, trainable, collections, caching_device, partitioner, validate_shape, use_resource, custom_getter, constraint, synchronization, aggregation)\u001b[0m\n\u001b[1;32m   1241\u001b[0m           \u001b[0mconstraint\u001b[0m\u001b[0;34m=\u001b[0m\u001b[0mconstraint\u001b[0m\u001b[0;34m,\u001b[0m\u001b[0;34m\u001b[0m\u001b[0;34m\u001b[0m\u001b[0m\n\u001b[1;32m   1242\u001b[0m           \u001b[0msynchronization\u001b[0m\u001b[0;34m=\u001b[0m\u001b[0msynchronization\u001b[0m\u001b[0;34m,\u001b[0m\u001b[0;34m\u001b[0m\u001b[0;34m\u001b[0m\u001b[0m\n\u001b[0;32m-> 1243\u001b[0;31m           aggregation=aggregation)\n\u001b[0m\u001b[1;32m   1244\u001b[0m \u001b[0;34m\u001b[0m\u001b[0m\n\u001b[1;32m   1245\u001b[0m   def _get_partitioned_variable(self,\n",
            "\u001b[0;32m/tensorflow-1.15.2/python3.7/tensorflow_core/python/ops/variable_scope.py\u001b[0m in \u001b[0;36mget_variable\u001b[0;34m(self, name, shape, dtype, initializer, regularizer, reuse, trainable, collections, caching_device, partitioner, validate_shape, use_resource, custom_getter, constraint, synchronization, aggregation)\u001b[0m\n\u001b[1;32m    565\u001b[0m           \u001b[0mconstraint\u001b[0m\u001b[0;34m=\u001b[0m\u001b[0mconstraint\u001b[0m\u001b[0;34m,\u001b[0m\u001b[0;34m\u001b[0m\u001b[0;34m\u001b[0m\u001b[0m\n\u001b[1;32m    566\u001b[0m           \u001b[0msynchronization\u001b[0m\u001b[0;34m=\u001b[0m\u001b[0msynchronization\u001b[0m\u001b[0;34m,\u001b[0m\u001b[0;34m\u001b[0m\u001b[0;34m\u001b[0m\u001b[0m\n\u001b[0;32m--> 567\u001b[0;31m           aggregation=aggregation)\n\u001b[0m\u001b[1;32m    568\u001b[0m \u001b[0;34m\u001b[0m\u001b[0m\n\u001b[1;32m    569\u001b[0m   def _get_partitioned_variable(self,\n",
            "\u001b[0;32m/tensorflow-1.15.2/python3.7/tensorflow_core/python/ops/variable_scope.py\u001b[0m in \u001b[0;36m_true_getter\u001b[0;34m(name, shape, dtype, initializer, regularizer, reuse, trainable, collections, caching_device, partitioner, validate_shape, use_resource, constraint, synchronization, aggregation)\u001b[0m\n\u001b[1;32m    517\u001b[0m           \u001b[0mconstraint\u001b[0m\u001b[0;34m=\u001b[0m\u001b[0mconstraint\u001b[0m\u001b[0;34m,\u001b[0m\u001b[0;34m\u001b[0m\u001b[0;34m\u001b[0m\u001b[0m\n\u001b[1;32m    518\u001b[0m           \u001b[0msynchronization\u001b[0m\u001b[0;34m=\u001b[0m\u001b[0msynchronization\u001b[0m\u001b[0;34m,\u001b[0m\u001b[0;34m\u001b[0m\u001b[0;34m\u001b[0m\u001b[0m\n\u001b[0;32m--> 519\u001b[0;31m           aggregation=aggregation)\n\u001b[0m\u001b[1;32m    520\u001b[0m \u001b[0;34m\u001b[0m\u001b[0m\n\u001b[1;32m    521\u001b[0m     synchronization, aggregation, trainable = (\n",
            "\u001b[0;32m/tensorflow-1.15.2/python3.7/tensorflow_core/python/ops/variable_scope.py\u001b[0m in \u001b[0;36m_get_single_variable\u001b[0;34m(self, name, shape, dtype, initializer, regularizer, partition_info, reuse, trainable, collections, caching_device, validate_shape, use_resource, constraint, synchronization, aggregation)\u001b[0m\n\u001b[1;32m    866\u001b[0m         \u001b[0mtb\u001b[0m \u001b[0;34m=\u001b[0m \u001b[0;34m[\u001b[0m\u001b[0mx\u001b[0m \u001b[0;32mfor\u001b[0m \u001b[0mx\u001b[0m \u001b[0;32min\u001b[0m \u001b[0mtb\u001b[0m \u001b[0;32mif\u001b[0m \u001b[0;34m\"tensorflow/python\"\u001b[0m \u001b[0;32mnot\u001b[0m \u001b[0;32min\u001b[0m \u001b[0mx\u001b[0m\u001b[0;34m[\u001b[0m\u001b[0;36m0\u001b[0m\u001b[0;34m]\u001b[0m\u001b[0;34m]\u001b[0m\u001b[0;34m[\u001b[0m\u001b[0;34m:\u001b[0m\u001b[0;36m5\u001b[0m\u001b[0;34m]\u001b[0m\u001b[0;34m\u001b[0m\u001b[0;34m\u001b[0m\u001b[0m\n\u001b[1;32m    867\u001b[0m         raise ValueError(\"%s Originally defined at:\\n\\n%s\" %\n\u001b[0;32m--> 868\u001b[0;31m                          (err_msg, \"\".join(traceback.format_list(tb))))\n\u001b[0m\u001b[1;32m    869\u001b[0m       \u001b[0mfound_var\u001b[0m \u001b[0;34m=\u001b[0m \u001b[0mself\u001b[0m\u001b[0;34m.\u001b[0m\u001b[0m_vars\u001b[0m\u001b[0;34m[\u001b[0m\u001b[0mname\u001b[0m\u001b[0;34m]\u001b[0m\u001b[0;34m\u001b[0m\u001b[0;34m\u001b[0m\u001b[0m\n\u001b[1;32m    870\u001b[0m       \u001b[0;32mif\u001b[0m \u001b[0;32mnot\u001b[0m \u001b[0mshape\u001b[0m\u001b[0;34m.\u001b[0m\u001b[0mis_compatible_with\u001b[0m\u001b[0;34m(\u001b[0m\u001b[0mfound_var\u001b[0m\u001b[0;34m.\u001b[0m\u001b[0mget_shape\u001b[0m\u001b[0;34m(\u001b[0m\u001b[0;34m)\u001b[0m\u001b[0;34m)\u001b[0m\u001b[0;34m:\u001b[0m\u001b[0;34m\u001b[0m\u001b[0;34m\u001b[0m\u001b[0m\n",
            "\u001b[0;31mValueError\u001b[0m: Variable model/wpe already exists, disallowed. Did you mean to set reuse=True or reuse=tf.AUTO_REUSE in VarScope? Originally defined at:\n\n  File \"/tensorflow-1.15.2/python3.7/tensorflow_core/python/framework/ops.py\", line 1748, in __init__\n    self._traceback = tf_stack.extract_stack()\n  File \"/tensorflow-1.15.2/python3.7/tensorflow_core/python/framework/ops.py\", line 3426, in _create_op_internal\n    op_def=op_def)\n  File \"/tensorflow-1.15.2/python3.7/tensorflow_core/python/framework/ops.py\", line 3357, in create_op\n    attrs, op_def, compute_device)\n  File \"/tensorflow-1.15.2/python3.7/tensorflow_core/python/util/deprecation.py\", line 507, in new_func\n    return func(*args, **kwargs)\n  File \"/tensorflow-1.15.2/python3.7/tensorflow_core/python/framework/op_def_library.py\", line 794, in _apply_op_helper\n    op_def=op_def)\n"
          ]
        }
      ]
    },
    {
      "cell_type": "code",
      "metadata": {
        "id": "-xInIZKaU104",
        "colab": {
          "base_uri": "https://localhost:8080/",
          "height": 391
        },
        "outputId": "d056fd40-e340-48b0-aebe-e4feb94af326"
      },
      "source": [
        "gpt2.generate(sess,\n",
        "              model_name=model_name,\n",
        "              prefix=\"Universal quantum\",\n",
        "              length=100,\n",
        "              temperature=0.7,\n",
        "              top_p=0.9,\n",
        "              nsamples=5,\n",
        "              batch_size=5\n",
        "              )"
      ],
      "execution_count": 15,
      "outputs": [
        {
          "output_type": "error",
          "ename": "ValueError",
          "evalue": "ignored",
          "traceback": [
            "\u001b[0;31m---------------------------------------------------------------------------\u001b[0m",
            "\u001b[0;31mValueError\u001b[0m                                Traceback (most recent call last)",
            "\u001b[0;32m<ipython-input-15-a0263528e993>\u001b[0m in \u001b[0;36m<module>\u001b[0;34m()\u001b[0m\n\u001b[1;32m      6\u001b[0m               \u001b[0mtop_p\u001b[0m\u001b[0;34m=\u001b[0m\u001b[0;36m0.9\u001b[0m\u001b[0;34m,\u001b[0m\u001b[0;34m\u001b[0m\u001b[0;34m\u001b[0m\u001b[0m\n\u001b[1;32m      7\u001b[0m               \u001b[0mnsamples\u001b[0m\u001b[0;34m=\u001b[0m\u001b[0;36m5\u001b[0m\u001b[0;34m,\u001b[0m\u001b[0;34m\u001b[0m\u001b[0;34m\u001b[0m\u001b[0m\n\u001b[0;32m----> 8\u001b[0;31m               \u001b[0mbatch_size\u001b[0m\u001b[0;34m=\u001b[0m\u001b[0;36m5\u001b[0m\u001b[0;34m\u001b[0m\u001b[0;34m\u001b[0m\u001b[0m\n\u001b[0m\u001b[1;32m      9\u001b[0m               )\n",
            "\u001b[0;32m/usr/local/lib/python3.7/dist-packages/gpt_2_simple/gpt_2.py\u001b[0m in \u001b[0;36mgenerate\u001b[0;34m(sess, run_name, checkpoint_dir, model_name, model_dir, sample_dir, return_as_list, truncate, destination_path, sample_delim, prefix, seed, nsamples, batch_size, length, temperature, top_k, top_p, include_prefix)\u001b[0m\n\u001b[1;32m    462\u001b[0m         \u001b[0mcontext\u001b[0m\u001b[0;34m=\u001b[0m\u001b[0mcontext\u001b[0m \u001b[0;32mif\u001b[0m \u001b[0mprefix\u001b[0m \u001b[0;32melse\u001b[0m \u001b[0;32mNone\u001b[0m\u001b[0;34m,\u001b[0m\u001b[0;34m\u001b[0m\u001b[0;34m\u001b[0m\u001b[0m\n\u001b[1;32m    463\u001b[0m         \u001b[0mbatch_size\u001b[0m\u001b[0;34m=\u001b[0m\u001b[0mbatch_size\u001b[0m\u001b[0;34m,\u001b[0m\u001b[0;34m\u001b[0m\u001b[0;34m\u001b[0m\u001b[0m\n\u001b[0;32m--> 464\u001b[0;31m         \u001b[0mtemperature\u001b[0m\u001b[0;34m=\u001b[0m\u001b[0mtemperature\u001b[0m\u001b[0;34m,\u001b[0m \u001b[0mtop_k\u001b[0m\u001b[0;34m=\u001b[0m\u001b[0mtop_k\u001b[0m\u001b[0;34m,\u001b[0m \u001b[0mtop_p\u001b[0m\u001b[0;34m=\u001b[0m\u001b[0mtop_p\u001b[0m\u001b[0;34m\u001b[0m\u001b[0;34m\u001b[0m\u001b[0m\n\u001b[0m\u001b[1;32m    465\u001b[0m     )[:, 1:]\n\u001b[1;32m    466\u001b[0m \u001b[0;34m\u001b[0m\u001b[0m\n",
            "\u001b[0;32m/usr/local/lib/python3.7/dist-packages/gpt_2_simple/src/sample.py\u001b[0m in \u001b[0;36msample_sequence\u001b[0;34m(hparams, length, start_token, batch_size, context, temperature, top_k, top_p)\u001b[0m\n\u001b[1;32m     65\u001b[0m         \u001b[0;31m# TODO: Would be slightly faster if we called step on the entire context,\u001b[0m\u001b[0;34m\u001b[0m\u001b[0;34m\u001b[0m\u001b[0;34m\u001b[0m\u001b[0m\n\u001b[1;32m     66\u001b[0m         \u001b[0;31m# rather than leaving the last token transformer calculation to the while loop.\u001b[0m\u001b[0;34m\u001b[0m\u001b[0;34m\u001b[0m\u001b[0;34m\u001b[0m\u001b[0m\n\u001b[0;32m---> 67\u001b[0;31m         \u001b[0mcontext_output\u001b[0m \u001b[0;34m=\u001b[0m \u001b[0mstep\u001b[0m\u001b[0;34m(\u001b[0m\u001b[0mhparams\u001b[0m\u001b[0;34m,\u001b[0m \u001b[0mcontext\u001b[0m\u001b[0;34m[\u001b[0m\u001b[0;34m:\u001b[0m\u001b[0;34m,\u001b[0m \u001b[0;34m:\u001b[0m\u001b[0;34m-\u001b[0m\u001b[0;36m1\u001b[0m\u001b[0;34m]\u001b[0m\u001b[0;34m)\u001b[0m\u001b[0;34m\u001b[0m\u001b[0;34m\u001b[0m\u001b[0m\n\u001b[0m\u001b[1;32m     68\u001b[0m \u001b[0;34m\u001b[0m\u001b[0m\n\u001b[1;32m     69\u001b[0m         \u001b[0;32mdef\u001b[0m \u001b[0mbody\u001b[0m\u001b[0;34m(\u001b[0m\u001b[0mpast\u001b[0m\u001b[0;34m,\u001b[0m \u001b[0mprev\u001b[0m\u001b[0;34m,\u001b[0m \u001b[0moutput\u001b[0m\u001b[0;34m)\u001b[0m\u001b[0;34m:\u001b[0m\u001b[0;34m\u001b[0m\u001b[0;34m\u001b[0m\u001b[0m\n",
            "\u001b[0;32m/usr/local/lib/python3.7/dist-packages/gpt_2_simple/src/sample.py\u001b[0m in \u001b[0;36mstep\u001b[0;34m(hparams, tokens, past)\u001b[0m\n\u001b[1;32m     50\u001b[0m     \u001b[0;32mdef\u001b[0m \u001b[0mstep\u001b[0m\u001b[0;34m(\u001b[0m\u001b[0mhparams\u001b[0m\u001b[0;34m,\u001b[0m \u001b[0mtokens\u001b[0m\u001b[0;34m,\u001b[0m \u001b[0mpast\u001b[0m\u001b[0;34m=\u001b[0m\u001b[0;32mNone\u001b[0m\u001b[0;34m)\u001b[0m\u001b[0;34m:\u001b[0m\u001b[0;34m\u001b[0m\u001b[0;34m\u001b[0m\u001b[0m\n\u001b[1;32m     51\u001b[0m         lm_output = model.model(hparams=hparams, X=tokens,\n\u001b[0;32m---> 52\u001b[0;31m                                 past=past, reuse=tf.compat.v1.AUTO_REUSE)\n\u001b[0m\u001b[1;32m     53\u001b[0m \u001b[0;34m\u001b[0m\u001b[0m\n\u001b[1;32m     54\u001b[0m         \u001b[0mlogits\u001b[0m \u001b[0;34m=\u001b[0m \u001b[0mlm_output\u001b[0m\u001b[0;34m[\u001b[0m\u001b[0;34m'logits'\u001b[0m\u001b[0;34m]\u001b[0m\u001b[0;34m[\u001b[0m\u001b[0;34m:\u001b[0m\u001b[0;34m,\u001b[0m \u001b[0;34m:\u001b[0m\u001b[0;34m,\u001b[0m \u001b[0;34m:\u001b[0m\u001b[0mhparams\u001b[0m\u001b[0;34m.\u001b[0m\u001b[0mn_vocab\u001b[0m\u001b[0;34m]\u001b[0m\u001b[0;34m\u001b[0m\u001b[0;34m\u001b[0m\u001b[0m\n",
            "\u001b[0;32m/usr/local/lib/python3.7/dist-packages/gpt_2_simple/src/model.py\u001b[0m in \u001b[0;36mmodel\u001b[0;34m(hparams, X, past, scope, gpus, reuse)\u001b[0m\n\u001b[1;32m    181\u001b[0m \u001b[0;34m\u001b[0m\u001b[0m\n\u001b[1;32m    182\u001b[0m         wpe = tf.compat.v1.get_variable('wpe', [hparams.n_ctx, hparams.n_embd],\n\u001b[0;32m--> 183\u001b[0;31m                              initializer=tf.compat.v1.random_normal_initializer(stddev=0.01))\n\u001b[0m\u001b[1;32m    184\u001b[0m         wte = tf.compat.v1.get_variable('wte', [hparams.n_vocab, hparams.n_embd],\n\u001b[1;32m    185\u001b[0m                              initializer=tf.compat.v1.random_normal_initializer(stddev=0.02))\n",
            "\u001b[0;32m/tensorflow-1.15.2/python3.7/tensorflow_core/python/ops/variable_scope.py\u001b[0m in \u001b[0;36mget_variable\u001b[0;34m(name, shape, dtype, initializer, regularizer, trainable, collections, caching_device, partitioner, validate_shape, use_resource, custom_getter, constraint, synchronization, aggregation)\u001b[0m\n\u001b[1;32m   1498\u001b[0m       \u001b[0mconstraint\u001b[0m\u001b[0;34m=\u001b[0m\u001b[0mconstraint\u001b[0m\u001b[0;34m,\u001b[0m\u001b[0;34m\u001b[0m\u001b[0;34m\u001b[0m\u001b[0m\n\u001b[1;32m   1499\u001b[0m       \u001b[0msynchronization\u001b[0m\u001b[0;34m=\u001b[0m\u001b[0msynchronization\u001b[0m\u001b[0;34m,\u001b[0m\u001b[0;34m\u001b[0m\u001b[0;34m\u001b[0m\u001b[0m\n\u001b[0;32m-> 1500\u001b[0;31m       aggregation=aggregation)\n\u001b[0m\u001b[1;32m   1501\u001b[0m \u001b[0;34m\u001b[0m\u001b[0m\n\u001b[1;32m   1502\u001b[0m \u001b[0;34m\u001b[0m\u001b[0m\n",
            "\u001b[0;32m/tensorflow-1.15.2/python3.7/tensorflow_core/python/ops/variable_scope.py\u001b[0m in \u001b[0;36mget_variable\u001b[0;34m(self, var_store, name, shape, dtype, initializer, regularizer, reuse, trainable, collections, caching_device, partitioner, validate_shape, use_resource, custom_getter, constraint, synchronization, aggregation)\u001b[0m\n\u001b[1;32m   1241\u001b[0m           \u001b[0mconstraint\u001b[0m\u001b[0;34m=\u001b[0m\u001b[0mconstraint\u001b[0m\u001b[0;34m,\u001b[0m\u001b[0;34m\u001b[0m\u001b[0;34m\u001b[0m\u001b[0m\n\u001b[1;32m   1242\u001b[0m           \u001b[0msynchronization\u001b[0m\u001b[0;34m=\u001b[0m\u001b[0msynchronization\u001b[0m\u001b[0;34m,\u001b[0m\u001b[0;34m\u001b[0m\u001b[0;34m\u001b[0m\u001b[0m\n\u001b[0;32m-> 1243\u001b[0;31m           aggregation=aggregation)\n\u001b[0m\u001b[1;32m   1244\u001b[0m \u001b[0;34m\u001b[0m\u001b[0m\n\u001b[1;32m   1245\u001b[0m   def _get_partitioned_variable(self,\n",
            "\u001b[0;32m/tensorflow-1.15.2/python3.7/tensorflow_core/python/ops/variable_scope.py\u001b[0m in \u001b[0;36mget_variable\u001b[0;34m(self, name, shape, dtype, initializer, regularizer, reuse, trainable, collections, caching_device, partitioner, validate_shape, use_resource, custom_getter, constraint, synchronization, aggregation)\u001b[0m\n\u001b[1;32m    565\u001b[0m           \u001b[0mconstraint\u001b[0m\u001b[0;34m=\u001b[0m\u001b[0mconstraint\u001b[0m\u001b[0;34m,\u001b[0m\u001b[0;34m\u001b[0m\u001b[0;34m\u001b[0m\u001b[0m\n\u001b[1;32m    566\u001b[0m           \u001b[0msynchronization\u001b[0m\u001b[0;34m=\u001b[0m\u001b[0msynchronization\u001b[0m\u001b[0;34m,\u001b[0m\u001b[0;34m\u001b[0m\u001b[0;34m\u001b[0m\u001b[0m\n\u001b[0;32m--> 567\u001b[0;31m           aggregation=aggregation)\n\u001b[0m\u001b[1;32m    568\u001b[0m \u001b[0;34m\u001b[0m\u001b[0m\n\u001b[1;32m    569\u001b[0m   def _get_partitioned_variable(self,\n",
            "\u001b[0;32m/tensorflow-1.15.2/python3.7/tensorflow_core/python/ops/variable_scope.py\u001b[0m in \u001b[0;36m_true_getter\u001b[0;34m(name, shape, dtype, initializer, regularizer, reuse, trainable, collections, caching_device, partitioner, validate_shape, use_resource, constraint, synchronization, aggregation)\u001b[0m\n\u001b[1;32m    517\u001b[0m           \u001b[0mconstraint\u001b[0m\u001b[0;34m=\u001b[0m\u001b[0mconstraint\u001b[0m\u001b[0;34m,\u001b[0m\u001b[0;34m\u001b[0m\u001b[0;34m\u001b[0m\u001b[0m\n\u001b[1;32m    518\u001b[0m           \u001b[0msynchronization\u001b[0m\u001b[0;34m=\u001b[0m\u001b[0msynchronization\u001b[0m\u001b[0;34m,\u001b[0m\u001b[0;34m\u001b[0m\u001b[0;34m\u001b[0m\u001b[0m\n\u001b[0;32m--> 519\u001b[0;31m           aggregation=aggregation)\n\u001b[0m\u001b[1;32m    520\u001b[0m \u001b[0;34m\u001b[0m\u001b[0m\n\u001b[1;32m    521\u001b[0m     synchronization, aggregation, trainable = (\n",
            "\u001b[0;32m/tensorflow-1.15.2/python3.7/tensorflow_core/python/ops/variable_scope.py\u001b[0m in \u001b[0;36m_get_single_variable\u001b[0;34m(self, name, shape, dtype, initializer, regularizer, partition_info, reuse, trainable, collections, caching_device, validate_shape, use_resource, constraint, synchronization, aggregation)\u001b[0m\n\u001b[1;32m    871\u001b[0m         raise ValueError(\"Trying to share variable %s, but specified shape %s\"\n\u001b[1;32m    872\u001b[0m                          \u001b[0;34m\" and found shape %s.\"\u001b[0m \u001b[0;34m%\u001b[0m\u001b[0;34m\u001b[0m\u001b[0;34m\u001b[0m\u001b[0m\n\u001b[0;32m--> 873\u001b[0;31m                          (name, shape, found_var.get_shape()))\n\u001b[0m\u001b[1;32m    874\u001b[0m       \u001b[0;32mif\u001b[0m \u001b[0;32mnot\u001b[0m \u001b[0mdtype\u001b[0m\u001b[0;34m.\u001b[0m\u001b[0mis_compatible_with\u001b[0m\u001b[0;34m(\u001b[0m\u001b[0mfound_var\u001b[0m\u001b[0;34m.\u001b[0m\u001b[0mdtype\u001b[0m\u001b[0;34m)\u001b[0m\u001b[0;34m:\u001b[0m\u001b[0;34m\u001b[0m\u001b[0;34m\u001b[0m\u001b[0m\n\u001b[1;32m    875\u001b[0m         \u001b[0mdtype_str\u001b[0m \u001b[0;34m=\u001b[0m \u001b[0mdtype\u001b[0m\u001b[0;34m.\u001b[0m\u001b[0mname\u001b[0m\u001b[0;34m\u001b[0m\u001b[0;34m\u001b[0m\u001b[0m\n",
            "\u001b[0;31mValueError\u001b[0m: Trying to share variable model/wpe, but specified shape (1024, 1280) and found shape (1024, 768)."
          ]
        }
      ]
    },
    {
      "cell_type": "markdown",
      "metadata": {
        "id": "ig-KVgkCDCKD"
      },
      "source": [
        "# Etcetera\n",
        "\n",
        "If the notebook has errors (e.g. GPU Sync Fail), force-kill the Colaboratory virtual machine and restart it with the command below:"
      ]
    },
    {
      "cell_type": "code",
      "metadata": {
        "id": "rIHiVP53FnsX"
      },
      "source": [
        "!kill -9 -1"
      ],
      "execution_count": null,
      "outputs": []
    },
    {
      "cell_type": "markdown",
      "metadata": {
        "id": "wmTXWNUygS5E"
      },
      "source": [
        "# LICENSE\n",
        "\n",
        "MIT License\n",
        "\n",
        "Copyright (c) 2019 Max Woolf\n",
        "\n",
        "Permission is hereby granted, free of charge, to any person obtaining a copy\n",
        "of this software and associated documentation files (the \"Software\"), to deal\n",
        "in the Software without restriction, including without limitation the rights\n",
        "to use, copy, modify, merge, publish, distribute, sublicense, and/or sell\n",
        "copies of the Software, and to permit persons to whom the Software is\n",
        "furnished to do so, subject to the following conditions:\n",
        "\n",
        "The above copyright notice and this permission notice shall be included in all\n",
        "copies or substantial portions of the Software.\n",
        "\n",
        "THE SOFTWARE IS PROVIDED \"AS IS\", WITHOUT WARRANTY OF ANY KIND, EXPRESS OR\n",
        "IMPLIED, INCLUDING BUT NOT LIMITED TO THE WARRANTIES OF MERCHANTABILITY,\n",
        "FITNESS FOR A PARTICULAR PURPOSE AND NONINFRINGEMENT. IN NO EVENT SHALL THE\n",
        "AUTHORS OR COPYRIGHT HOLDERS BE LIABLE FOR ANY CLAIM, DAMAGES OR OTHER\n",
        "LIABILITY, WHETHER IN AN ACTION OF CONTRACT, TORT OR OTHERWISE, ARISING FROM,\n",
        "OUT OF OR IN CONNECTION WITH THE SOFTWARE OR THE USE OR OTHER DEALINGS IN THE\n",
        "SOFTWARE."
      ]
    }
  ]
}